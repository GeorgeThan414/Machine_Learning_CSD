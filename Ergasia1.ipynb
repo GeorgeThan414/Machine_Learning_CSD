{
  "nbformat": 4,
  "nbformat_minor": 0,
  "metadata": {
    "colab": {
      "provenance": [],
      "authorship_tag": "ABX9TyN5lkMNnRV1cFTWHPXK2feH",
      "include_colab_link": true
    },
    "kernelspec": {
      "name": "python3",
      "display_name": "Python 3"
    },
    "language_info": {
      "name": "python"
    }
  },
  "cells": [
    {
      "cell_type": "markdown",
      "metadata": {
        "id": "view-in-github",
        "colab_type": "text"
      },
      "source": [
        "<a href=\"https://colab.research.google.com/github/GeorgeThan414/Machine_Learning_CSD/blob/main/Ergasia1.ipynb\" target=\"_parent\"><img src=\"https://colab.research.google.com/assets/colab-badge.svg\" alt=\"Open In Colab\"/></a>"
      ]
    },
    {
      "cell_type": "markdown",
      "source": [
        "Εργασία 1 - Επιβλεπόμενη Μάθηση\n",
        "Μέρος 1 - Λογιστική Παλινδρόμηση\n"
      ],
      "metadata": {
        "id": "RRaB2NZLoHTj"
      }
    },
    {
      "cell_type": "markdown",
      "source": [
        "Το πρώτο κελί αφορά τη φόρτωση όλων των κατάλληλων βιβλιοθηκών, για την ολοκλήρωση της εργασίας. H βιβλιοθήκη **pandas**, αφορά την φόρτωση, επερξεργασία δεδομένων, καθώς και την στατιστική που ακολουθούν. Η βιβλιοθήκη **numpy** αφορά τον μετασχηματισμό των δεδομένων σε πίνακες, με σκοπό την αξιοποίηση τους σε αριθμιτικές πράξεις όπως πρόσθεση, πολλαπλασιασμός και διαίρεση που είναι απαραίτητες για τη μηχανική μάθηση. Επιπλέον, η βιβλιοθήκη **matplotlib** αφορά την απεικόνιση των δεδομένων και τη δυνατότητα χρήσης πολλαπλών και διαφορετικών διαγραμματών. Τέλος, η βιβλιοθήκη **scikit-learn (sklear)**, αποτελεί ίσως την σημαντικότερη και δημοφιλέστερη βιβλιοθήκη που προσφέρει μοντέλα μηχανικής μάθησης, με σκοπό την αξιοποίησή τους σε διαφορετικά projects και διαφορετικά δεδομένα.\n"
      ],
      "metadata": {
        "id": "Gj0S_31Moh6s"
      }
    },
    {
      "cell_type": "code",
      "execution_count": 128,
      "metadata": {
        "id": "jJ51JT3Jntqt"
      },
      "outputs": [],
      "source": [
        "import pandas as pd\n",
        "import numpy as np\n",
        "import sklearn\n",
        "import matplotlib.pyplot as plt\n",
        "from sklearn.linear_model import LogisticRegression\n",
        "from sklearn.model_selection import train_test_split\n",
        "from sklearn.metrics import accuracy_score\n"
      ]
    },
    {
      "cell_type": "markdown",
      "source": [
        "**Ερώτημα 1 - Μέρος 1**\n",
        "\n",
        "Μέσω την βιβλιοθήκη pandas που αναφέρθηκε προηγουμένως θα φορτωθούν τα δεδομένα σε μορφή DataFrame. Υπάρχουν πολλαπλοί τρόποι ανεβάσματος δεδομένων, στην συγκεκριμένη περίπτωση θα κατεβάσουμε το dataset και το φορτώσουμε στα files με drag & drop."
      ],
      "metadata": {
        "id": "y_q7zUkvqpLc"
      }
    },
    {
      "cell_type": "markdown",
      "source": [
        "Το παρακάτω κελί φορτώνει τα δεδομένα με την εντολή **pd.read_csv** και εκτυπώνουμε τα πρώτα 10 με την εντολή **df.head(10)**, όπου το df είναι το dataframe object που δημιουργήσαμε πρίν."
      ],
      "metadata": {
        "id": "EdMJ4x5Arsnk"
      }
    },
    {
      "cell_type": "code",
      "source": [
        "df=pd.read_csv(\"diabetes.csv\")\n",
        "df.head(10)\n",
        "\n"
      ],
      "metadata": {
        "colab": {
          "base_uri": "https://localhost:8080/",
          "height": 363
        },
        "id": "0EAht7Whnxa8",
        "outputId": "d79b55a5-e3b6-4b4a-9357-4c9eba8ea5ab"
      },
      "execution_count": 129,
      "outputs": [
        {
          "output_type": "execute_result",
          "data": {
            "text/plain": [
              "   Pregnancies  Glucose  BloodPressure  SkinThickness  Insulin   BMI  \\\n",
              "0            6      148             72             35        0  33.6   \n",
              "1            1       85             66             29        0  26.6   \n",
              "2            8      183             64              0        0  23.3   \n",
              "3            1       89             66             23       94  28.1   \n",
              "4            0      137             40             35      168  43.1   \n",
              "5            5      116             74              0        0  25.6   \n",
              "6            3       78             50             32       88  31.0   \n",
              "7           10      115              0              0        0  35.3   \n",
              "8            2      197             70             45      543  30.5   \n",
              "9            8      125             96              0        0   0.0   \n",
              "\n",
              "   DiabetesPedigreeFunction  Age  Outcome  \n",
              "0                     0.627   50        1  \n",
              "1                     0.351   31        0  \n",
              "2                     0.672   32        1  \n",
              "3                     0.167   21        0  \n",
              "4                     2.288   33        1  \n",
              "5                     0.201   30        0  \n",
              "6                     0.248   26        1  \n",
              "7                     0.134   29        0  \n",
              "8                     0.158   53        1  \n",
              "9                     0.232   54        1  "
            ],
            "text/html": [
              "\n",
              "  <div id=\"df-8eddbf1e-7bce-4e51-b263-659e0f47e61b\" class=\"colab-df-container\">\n",
              "    <div>\n",
              "<style scoped>\n",
              "    .dataframe tbody tr th:only-of-type {\n",
              "        vertical-align: middle;\n",
              "    }\n",
              "\n",
              "    .dataframe tbody tr th {\n",
              "        vertical-align: top;\n",
              "    }\n",
              "\n",
              "    .dataframe thead th {\n",
              "        text-align: right;\n",
              "    }\n",
              "</style>\n",
              "<table border=\"1\" class=\"dataframe\">\n",
              "  <thead>\n",
              "    <tr style=\"text-align: right;\">\n",
              "      <th></th>\n",
              "      <th>Pregnancies</th>\n",
              "      <th>Glucose</th>\n",
              "      <th>BloodPressure</th>\n",
              "      <th>SkinThickness</th>\n",
              "      <th>Insulin</th>\n",
              "      <th>BMI</th>\n",
              "      <th>DiabetesPedigreeFunction</th>\n",
              "      <th>Age</th>\n",
              "      <th>Outcome</th>\n",
              "    </tr>\n",
              "  </thead>\n",
              "  <tbody>\n",
              "    <tr>\n",
              "      <th>0</th>\n",
              "      <td>6</td>\n",
              "      <td>148</td>\n",
              "      <td>72</td>\n",
              "      <td>35</td>\n",
              "      <td>0</td>\n",
              "      <td>33.6</td>\n",
              "      <td>0.627</td>\n",
              "      <td>50</td>\n",
              "      <td>1</td>\n",
              "    </tr>\n",
              "    <tr>\n",
              "      <th>1</th>\n",
              "      <td>1</td>\n",
              "      <td>85</td>\n",
              "      <td>66</td>\n",
              "      <td>29</td>\n",
              "      <td>0</td>\n",
              "      <td>26.6</td>\n",
              "      <td>0.351</td>\n",
              "      <td>31</td>\n",
              "      <td>0</td>\n",
              "    </tr>\n",
              "    <tr>\n",
              "      <th>2</th>\n",
              "      <td>8</td>\n",
              "      <td>183</td>\n",
              "      <td>64</td>\n",
              "      <td>0</td>\n",
              "      <td>0</td>\n",
              "      <td>23.3</td>\n",
              "      <td>0.672</td>\n",
              "      <td>32</td>\n",
              "      <td>1</td>\n",
              "    </tr>\n",
              "    <tr>\n",
              "      <th>3</th>\n",
              "      <td>1</td>\n",
              "      <td>89</td>\n",
              "      <td>66</td>\n",
              "      <td>23</td>\n",
              "      <td>94</td>\n",
              "      <td>28.1</td>\n",
              "      <td>0.167</td>\n",
              "      <td>21</td>\n",
              "      <td>0</td>\n",
              "    </tr>\n",
              "    <tr>\n",
              "      <th>4</th>\n",
              "      <td>0</td>\n",
              "      <td>137</td>\n",
              "      <td>40</td>\n",
              "      <td>35</td>\n",
              "      <td>168</td>\n",
              "      <td>43.1</td>\n",
              "      <td>2.288</td>\n",
              "      <td>33</td>\n",
              "      <td>1</td>\n",
              "    </tr>\n",
              "    <tr>\n",
              "      <th>5</th>\n",
              "      <td>5</td>\n",
              "      <td>116</td>\n",
              "      <td>74</td>\n",
              "      <td>0</td>\n",
              "      <td>0</td>\n",
              "      <td>25.6</td>\n",
              "      <td>0.201</td>\n",
              "      <td>30</td>\n",
              "      <td>0</td>\n",
              "    </tr>\n",
              "    <tr>\n",
              "      <th>6</th>\n",
              "      <td>3</td>\n",
              "      <td>78</td>\n",
              "      <td>50</td>\n",
              "      <td>32</td>\n",
              "      <td>88</td>\n",
              "      <td>31.0</td>\n",
              "      <td>0.248</td>\n",
              "      <td>26</td>\n",
              "      <td>1</td>\n",
              "    </tr>\n",
              "    <tr>\n",
              "      <th>7</th>\n",
              "      <td>10</td>\n",
              "      <td>115</td>\n",
              "      <td>0</td>\n",
              "      <td>0</td>\n",
              "      <td>0</td>\n",
              "      <td>35.3</td>\n",
              "      <td>0.134</td>\n",
              "      <td>29</td>\n",
              "      <td>0</td>\n",
              "    </tr>\n",
              "    <tr>\n",
              "      <th>8</th>\n",
              "      <td>2</td>\n",
              "      <td>197</td>\n",
              "      <td>70</td>\n",
              "      <td>45</td>\n",
              "      <td>543</td>\n",
              "      <td>30.5</td>\n",
              "      <td>0.158</td>\n",
              "      <td>53</td>\n",
              "      <td>1</td>\n",
              "    </tr>\n",
              "    <tr>\n",
              "      <th>9</th>\n",
              "      <td>8</td>\n",
              "      <td>125</td>\n",
              "      <td>96</td>\n",
              "      <td>0</td>\n",
              "      <td>0</td>\n",
              "      <td>0.0</td>\n",
              "      <td>0.232</td>\n",
              "      <td>54</td>\n",
              "      <td>1</td>\n",
              "    </tr>\n",
              "  </tbody>\n",
              "</table>\n",
              "</div>\n",
              "    <div class=\"colab-df-buttons\">\n",
              "\n",
              "  <div class=\"colab-df-container\">\n",
              "    <button class=\"colab-df-convert\" onclick=\"convertToInteractive('df-8eddbf1e-7bce-4e51-b263-659e0f47e61b')\"\n",
              "            title=\"Convert this dataframe to an interactive table.\"\n",
              "            style=\"display:none;\">\n",
              "\n",
              "  <svg xmlns=\"http://www.w3.org/2000/svg\" height=\"24px\" viewBox=\"0 -960 960 960\">\n",
              "    <path d=\"M120-120v-720h720v720H120Zm60-500h600v-160H180v160Zm220 220h160v-160H400v160Zm0 220h160v-160H400v160ZM180-400h160v-160H180v160Zm440 0h160v-160H620v160ZM180-180h160v-160H180v160Zm440 0h160v-160H620v160Z\"/>\n",
              "  </svg>\n",
              "    </button>\n",
              "\n",
              "  <style>\n",
              "    .colab-df-container {\n",
              "      display:flex;\n",
              "      gap: 12px;\n",
              "    }\n",
              "\n",
              "    .colab-df-convert {\n",
              "      background-color: #E8F0FE;\n",
              "      border: none;\n",
              "      border-radius: 50%;\n",
              "      cursor: pointer;\n",
              "      display: none;\n",
              "      fill: #1967D2;\n",
              "      height: 32px;\n",
              "      padding: 0 0 0 0;\n",
              "      width: 32px;\n",
              "    }\n",
              "\n",
              "    .colab-df-convert:hover {\n",
              "      background-color: #E2EBFA;\n",
              "      box-shadow: 0px 1px 2px rgba(60, 64, 67, 0.3), 0px 1px 3px 1px rgba(60, 64, 67, 0.15);\n",
              "      fill: #174EA6;\n",
              "    }\n",
              "\n",
              "    .colab-df-buttons div {\n",
              "      margin-bottom: 4px;\n",
              "    }\n",
              "\n",
              "    [theme=dark] .colab-df-convert {\n",
              "      background-color: #3B4455;\n",
              "      fill: #D2E3FC;\n",
              "    }\n",
              "\n",
              "    [theme=dark] .colab-df-convert:hover {\n",
              "      background-color: #434B5C;\n",
              "      box-shadow: 0px 1px 3px 1px rgba(0, 0, 0, 0.15);\n",
              "      filter: drop-shadow(0px 1px 2px rgba(0, 0, 0, 0.3));\n",
              "      fill: #FFFFFF;\n",
              "    }\n",
              "  </style>\n",
              "\n",
              "    <script>\n",
              "      const buttonEl =\n",
              "        document.querySelector('#df-8eddbf1e-7bce-4e51-b263-659e0f47e61b button.colab-df-convert');\n",
              "      buttonEl.style.display =\n",
              "        google.colab.kernel.accessAllowed ? 'block' : 'none';\n",
              "\n",
              "      async function convertToInteractive(key) {\n",
              "        const element = document.querySelector('#df-8eddbf1e-7bce-4e51-b263-659e0f47e61b');\n",
              "        const dataTable =\n",
              "          await google.colab.kernel.invokeFunction('convertToInteractive',\n",
              "                                                    [key], {});\n",
              "        if (!dataTable) return;\n",
              "\n",
              "        const docLinkHtml = 'Like what you see? Visit the ' +\n",
              "          '<a target=\"_blank\" href=https://colab.research.google.com/notebooks/data_table.ipynb>data table notebook</a>'\n",
              "          + ' to learn more about interactive tables.';\n",
              "        element.innerHTML = '';\n",
              "        dataTable['output_type'] = 'display_data';\n",
              "        await google.colab.output.renderOutput(dataTable, element);\n",
              "        const docLink = document.createElement('div');\n",
              "        docLink.innerHTML = docLinkHtml;\n",
              "        element.appendChild(docLink);\n",
              "      }\n",
              "    </script>\n",
              "  </div>\n",
              "\n",
              "\n",
              "    <div id=\"df-5fd4432d-e9f2-45f1-87fd-429f2e185073\">\n",
              "      <button class=\"colab-df-quickchart\" onclick=\"quickchart('df-5fd4432d-e9f2-45f1-87fd-429f2e185073')\"\n",
              "                title=\"Suggest charts\"\n",
              "                style=\"display:none;\">\n",
              "\n",
              "<svg xmlns=\"http://www.w3.org/2000/svg\" height=\"24px\"viewBox=\"0 0 24 24\"\n",
              "     width=\"24px\">\n",
              "    <g>\n",
              "        <path d=\"M19 3H5c-1.1 0-2 .9-2 2v14c0 1.1.9 2 2 2h14c1.1 0 2-.9 2-2V5c0-1.1-.9-2-2-2zM9 17H7v-7h2v7zm4 0h-2V7h2v10zm4 0h-2v-4h2v4z\"/>\n",
              "    </g>\n",
              "</svg>\n",
              "      </button>\n",
              "\n",
              "<style>\n",
              "  .colab-df-quickchart {\n",
              "      --bg-color: #E8F0FE;\n",
              "      --fill-color: #1967D2;\n",
              "      --hover-bg-color: #E2EBFA;\n",
              "      --hover-fill-color: #174EA6;\n",
              "      --disabled-fill-color: #AAA;\n",
              "      --disabled-bg-color: #DDD;\n",
              "  }\n",
              "\n",
              "  [theme=dark] .colab-df-quickchart {\n",
              "      --bg-color: #3B4455;\n",
              "      --fill-color: #D2E3FC;\n",
              "      --hover-bg-color: #434B5C;\n",
              "      --hover-fill-color: #FFFFFF;\n",
              "      --disabled-bg-color: #3B4455;\n",
              "      --disabled-fill-color: #666;\n",
              "  }\n",
              "\n",
              "  .colab-df-quickchart {\n",
              "    background-color: var(--bg-color);\n",
              "    border: none;\n",
              "    border-radius: 50%;\n",
              "    cursor: pointer;\n",
              "    display: none;\n",
              "    fill: var(--fill-color);\n",
              "    height: 32px;\n",
              "    padding: 0;\n",
              "    width: 32px;\n",
              "  }\n",
              "\n",
              "  .colab-df-quickchart:hover {\n",
              "    background-color: var(--hover-bg-color);\n",
              "    box-shadow: 0 1px 2px rgba(60, 64, 67, 0.3), 0 1px 3px 1px rgba(60, 64, 67, 0.15);\n",
              "    fill: var(--button-hover-fill-color);\n",
              "  }\n",
              "\n",
              "  .colab-df-quickchart-complete:disabled,\n",
              "  .colab-df-quickchart-complete:disabled:hover {\n",
              "    background-color: var(--disabled-bg-color);\n",
              "    fill: var(--disabled-fill-color);\n",
              "    box-shadow: none;\n",
              "  }\n",
              "\n",
              "  .colab-df-spinner {\n",
              "    border: 2px solid var(--fill-color);\n",
              "    border-color: transparent;\n",
              "    border-bottom-color: var(--fill-color);\n",
              "    animation:\n",
              "      spin 1s steps(1) infinite;\n",
              "  }\n",
              "\n",
              "  @keyframes spin {\n",
              "    0% {\n",
              "      border-color: transparent;\n",
              "      border-bottom-color: var(--fill-color);\n",
              "      border-left-color: var(--fill-color);\n",
              "    }\n",
              "    20% {\n",
              "      border-color: transparent;\n",
              "      border-left-color: var(--fill-color);\n",
              "      border-top-color: var(--fill-color);\n",
              "    }\n",
              "    30% {\n",
              "      border-color: transparent;\n",
              "      border-left-color: var(--fill-color);\n",
              "      border-top-color: var(--fill-color);\n",
              "      border-right-color: var(--fill-color);\n",
              "    }\n",
              "    40% {\n",
              "      border-color: transparent;\n",
              "      border-right-color: var(--fill-color);\n",
              "      border-top-color: var(--fill-color);\n",
              "    }\n",
              "    60% {\n",
              "      border-color: transparent;\n",
              "      border-right-color: var(--fill-color);\n",
              "    }\n",
              "    80% {\n",
              "      border-color: transparent;\n",
              "      border-right-color: var(--fill-color);\n",
              "      border-bottom-color: var(--fill-color);\n",
              "    }\n",
              "    90% {\n",
              "      border-color: transparent;\n",
              "      border-bottom-color: var(--fill-color);\n",
              "    }\n",
              "  }\n",
              "</style>\n",
              "\n",
              "      <script>\n",
              "        async function quickchart(key) {\n",
              "          const quickchartButtonEl =\n",
              "            document.querySelector('#' + key + ' button');\n",
              "          quickchartButtonEl.disabled = true;  // To prevent multiple clicks.\n",
              "          quickchartButtonEl.classList.add('colab-df-spinner');\n",
              "          try {\n",
              "            const charts = await google.colab.kernel.invokeFunction(\n",
              "                'suggestCharts', [key], {});\n",
              "          } catch (error) {\n",
              "            console.error('Error during call to suggestCharts:', error);\n",
              "          }\n",
              "          quickchartButtonEl.classList.remove('colab-df-spinner');\n",
              "          quickchartButtonEl.classList.add('colab-df-quickchart-complete');\n",
              "        }\n",
              "        (() => {\n",
              "          let quickchartButtonEl =\n",
              "            document.querySelector('#df-5fd4432d-e9f2-45f1-87fd-429f2e185073 button');\n",
              "          quickchartButtonEl.style.display =\n",
              "            google.colab.kernel.accessAllowed ? 'block' : 'none';\n",
              "        })();\n",
              "      </script>\n",
              "    </div>\n",
              "\n",
              "    </div>\n",
              "  </div>\n"
            ],
            "application/vnd.google.colaboratory.intrinsic+json": {
              "type": "dataframe",
              "variable_name": "df",
              "summary": "{\n  \"name\": \"df\",\n  \"rows\": 768,\n  \"fields\": [\n    {\n      \"column\": \"Pregnancies\",\n      \"properties\": {\n        \"dtype\": \"number\",\n        \"std\": 3,\n        \"min\": 0,\n        \"max\": 17,\n        \"num_unique_values\": 17,\n        \"samples\": [\n          6,\n          1,\n          3\n        ],\n        \"semantic_type\": \"\",\n        \"description\": \"\"\n      }\n    },\n    {\n      \"column\": \"Glucose\",\n      \"properties\": {\n        \"dtype\": \"number\",\n        \"std\": 31,\n        \"min\": 0,\n        \"max\": 199,\n        \"num_unique_values\": 136,\n        \"samples\": [\n          151,\n          101,\n          112\n        ],\n        \"semantic_type\": \"\",\n        \"description\": \"\"\n      }\n    },\n    {\n      \"column\": \"BloodPressure\",\n      \"properties\": {\n        \"dtype\": \"number\",\n        \"std\": 19,\n        \"min\": 0,\n        \"max\": 122,\n        \"num_unique_values\": 47,\n        \"samples\": [\n          86,\n          46,\n          85\n        ],\n        \"semantic_type\": \"\",\n        \"description\": \"\"\n      }\n    },\n    {\n      \"column\": \"SkinThickness\",\n      \"properties\": {\n        \"dtype\": \"number\",\n        \"std\": 15,\n        \"min\": 0,\n        \"max\": 99,\n        \"num_unique_values\": 51,\n        \"samples\": [\n          7,\n          12,\n          48\n        ],\n        \"semantic_type\": \"\",\n        \"description\": \"\"\n      }\n    },\n    {\n      \"column\": \"Insulin\",\n      \"properties\": {\n        \"dtype\": \"number\",\n        \"std\": 115,\n        \"min\": 0,\n        \"max\": 846,\n        \"num_unique_values\": 186,\n        \"samples\": [\n          52,\n          41,\n          183\n        ],\n        \"semantic_type\": \"\",\n        \"description\": \"\"\n      }\n    },\n    {\n      \"column\": \"BMI\",\n      \"properties\": {\n        \"dtype\": \"number\",\n        \"std\": 7.8841603203754405,\n        \"min\": 0.0,\n        \"max\": 67.1,\n        \"num_unique_values\": 248,\n        \"samples\": [\n          19.9,\n          31.0,\n          38.1\n        ],\n        \"semantic_type\": \"\",\n        \"description\": \"\"\n      }\n    },\n    {\n      \"column\": \"DiabetesPedigreeFunction\",\n      \"properties\": {\n        \"dtype\": \"number\",\n        \"std\": 0.33132859501277484,\n        \"min\": 0.078,\n        \"max\": 2.42,\n        \"num_unique_values\": 517,\n        \"samples\": [\n          1.731,\n          0.426,\n          0.138\n        ],\n        \"semantic_type\": \"\",\n        \"description\": \"\"\n      }\n    },\n    {\n      \"column\": \"Age\",\n      \"properties\": {\n        \"dtype\": \"number\",\n        \"std\": 11,\n        \"min\": 21,\n        \"max\": 81,\n        \"num_unique_values\": 52,\n        \"samples\": [\n          60,\n          47,\n          72\n        ],\n        \"semantic_type\": \"\",\n        \"description\": \"\"\n      }\n    },\n    {\n      \"column\": \"Outcome\",\n      \"properties\": {\n        \"dtype\": \"number\",\n        \"std\": 0,\n        \"min\": 0,\n        \"max\": 1,\n        \"num_unique_values\": 2,\n        \"samples\": [\n          0,\n          1\n        ],\n        \"semantic_type\": \"\",\n        \"description\": \"\"\n      }\n    }\n  ]\n}"
            }
          },
          "metadata": {},
          "execution_count": 129
        }
      ]
    },
    {
      "cell_type": "markdown",
      "source": [
        "Με την εντολή **df.describe()**, εκτυπώνονται όλες οι βασικές στατιστικές ιδιότητες, όπως **η μέση τιμή (mean), η τυπική απόκλιση(std) καθώς και η ελάχιστη(min) και μέγιστη(max) τιμή τους**, όλων των διαφορετικών χαρακτηριστικών του csv μας."
      ],
      "metadata": {
        "id": "k01Tx6QhsdJO"
      }
    },
    {
      "cell_type": "code",
      "source": [
        "print(df.describe())\n"
      ],
      "metadata": {
        "colab": {
          "base_uri": "https://localhost:8080/"
        },
        "id": "g_VL5RKpsYL7",
        "outputId": "79f73f12-2f5b-47c8-f455-9ceea27ef32f"
      },
      "execution_count": 130,
      "outputs": [
        {
          "output_type": "stream",
          "name": "stdout",
          "text": [
            "       Pregnancies     Glucose  BloodPressure  SkinThickness     Insulin  \\\n",
            "count   768.000000  768.000000     768.000000     768.000000  768.000000   \n",
            "mean      3.845052  120.894531      69.105469      20.536458   79.799479   \n",
            "std       3.369578   31.972618      19.355807      15.952218  115.244002   \n",
            "min       0.000000    0.000000       0.000000       0.000000    0.000000   \n",
            "25%       1.000000   99.000000      62.000000       0.000000    0.000000   \n",
            "50%       3.000000  117.000000      72.000000      23.000000   30.500000   \n",
            "75%       6.000000  140.250000      80.000000      32.000000  127.250000   \n",
            "max      17.000000  199.000000     122.000000      99.000000  846.000000   \n",
            "\n",
            "              BMI  DiabetesPedigreeFunction         Age     Outcome  \n",
            "count  768.000000                768.000000  768.000000  768.000000  \n",
            "mean    31.992578                  0.471876   33.240885    0.348958  \n",
            "std      7.884160                  0.331329   11.760232    0.476951  \n",
            "min      0.000000                  0.078000   21.000000    0.000000  \n",
            "25%     27.300000                  0.243750   24.000000    0.000000  \n",
            "50%     32.000000                  0.372500   29.000000    0.000000  \n",
            "75%     36.600000                  0.626250   41.000000    1.000000  \n",
            "max     67.100000                  2.420000   81.000000    1.000000  \n"
          ]
        }
      ]
    },
    {
      "cell_type": "markdown",
      "source": [
        "Στη συνέχεια εμφανίζεται το ιστόγραμμα, όλων των διαφορικών χαρακτηριστικών, που μας δείχνει την διακύμανση των δεδομένων στον άξωνα x(axis=0), ή το πόσο πυκνά είναι τα δεδομένα κάθε χαρακτηριστικού. Δηλαδή, αν σε κάποιο χαρακτηριστικό τα δεδομένα έχουν πολύ κοντινές τιμές ή πολλαπλά σημεία έχουν ίδια τιμή, αυτό σημαίνει ότι έχουν μικρή μεταβλητότητα στην τιμή τους και το ιστόγραμμα θα έχει μία κορυφή (peak) στην συγκεκριμένη τιμή. Συνολίκα έχουμε 9 χαρακτηριστικά, θα δείξουμε 8 διαφορετικά ιστογράμματα και το χαρακτηριστικό στόχου θα το απεικονίσουμε με barplot."
      ],
      "metadata": {
        "id": "rmPq68ENs2rC"
      }
    },
    {
      "cell_type": "markdown",
      "source": [
        "Παραkάτω απεικοίνίζονται τα 8 διαφορετικά ιστογράμματα, για λόγους απλότητα, μία for loop με 8 επαναλήψεις(iterations), που σε κάθε επανάληψη τοποθετεί ένα διαφορετικό χαρακτηριστικό σε συγκεκριμένη θέση του αντικειμένου subplot που θα απεικονίση συνολικά όλα τα ιστογράμματα σε 3 σειρές και 3 στείλες.\n",
        "\n",
        "Έπειτα, η μεταβλητή target που αποτελείται μόνο από δύο τιμές το 0 και το 1 θα εμφανιστεί με ένα Bar Plot."
      ],
      "metadata": {
        "id": "G-21StZTwGo3"
      }
    },
    {
      "cell_type": "code",
      "source": [
        "plt.figure(figsize=(8,8))                   # Visualized Object Size\n",
        "for index in range(8):\n",
        "  plt.subplot(3,3, index+1)                 # Total rows/columns of the object\n",
        "  plt.hist(df.iloc[:, index])               # Each row and column depicts exactly one feature.\n",
        "  plt.ylabel(\"Frequency\")                   # Y label for all the visualizations\n",
        "  plt.title(df.columns[index])              # Correlate the name of the feature with each subplot position.\n",
        "\n",
        "plt.tight_layout()                          # Avoid overlap between subplots\n",
        "plt.show()                                  # Depicts the subplots.\n",
        "\n",
        "plt.figure(figsize=(3,3))\n",
        "counts= df['Outcome'].value_counts()        # Count the total values of the feature\n",
        "plt.bar(counts.index, counts, width=0.2)    # Create a bar plot with the counts and with specified width of the bar plots\n",
        "plt.xlabel('Outcome')\n",
        "plt.ylabel('Count')\n",
        "plt.show()                                   # Depicts the plot.\n",
        "\n"
      ],
      "metadata": {
        "colab": {
          "base_uri": "https://localhost:8080/",
          "height": 1000
        },
        "id": "thSA9pL_s1ZX",
        "outputId": "14db565a-0e50-470e-95dc-af9880af7fbf"
      },
      "execution_count": 131,
      "outputs": [
        {
          "output_type": "display_data",
          "data": {
            "text/plain": [
              "<Figure size 800x800 with 8 Axes>"
            ],
            "image/png": "[encoded data removed]"
          },
          "metadata": {}
        },
        {
          "output_type": "display_data",
          "data": {
            "text/plain": [
              "<Figure size 300x300 with 1 Axes>"
            ],
            "image/png": "[encoded data removed]"
          },
          "metadata": {}
        }
      ]
    },
    {
      "cell_type": "markdown",
      "source": [
        "**Ερώτημα 2**\n",
        "\n",
        "Όπως αναφέρθηκε και προηγουμένως, το ιστόγραμμα κάθε μεταβλητής απεικονίζει και την κατανομή που ακολουθεί το συγκεκριμένο χαρακτηστικό, από την συγκέντρωση των δειγμάτων του. Σύφμωνα με τα παραπάνω ιστογράμμα μπορούμε να αντιληφθούμε εμπειρικά την διακύμανση των δεδομένων κάθε χαρακτηριστικού αλλά και αριθμιτικά αν υψώσουμε στο τετράγωνο την τυπική απόκλιση κάθε χαρακτηστικού. **Επομένως, όσο μεγαλύτερη διακύμανση τόσο πιο αραιά τα δεδομένα στο ιστόγραμμα, άρα περισσότερη πληροφορία που μπορεί να αξιοποιηθεί από το μοντέλο. Διαφορετικά οι μεταβλητές με μεγαλύτερη ασσυμετρία και απότομες κορυφές(skewness) δεν παρουσιάζουν μεγάλη διακύμανση, διότι το πλήθος των τιμών τους περιορίζεται σε ένα μικρό διάστημα τιμών, με συνέπεια το μοντέλο να μπορεί να μάθει σχεδόν απέξω την η τιμή του χαρακτηριστικού ότι είναι η τιμή με τα περισσότερα δείγματα, απομακρύνοντας το μοντέλο από την γενίκευση και ομαλή εκπαίδευση.**\n",
        "\n",
        "**Ο δεύτερος λόγος** αφορά το χαρακτηριστό στόχου (target=Outcome), το οποίο σύμφωνα με το παραπάνω διάγραμμα μας δείχνει την ανισορροπία των δύο διαφορετικών κλάσεων 0(χωρίς διαβήτη) και 1(με διαβήτη), αφού το 65% των δειγμάτων ταξινομούνται στην κλάση 0, ενώ τα υπόλοιπα στην κλάση 1. Με αποτέλεσμα να δημιουργείται μια μεροληψία των δεδομένων (bias) συγκεκριμένα σε μοντέλα ταξινόμησης, όπως είναι και η παλιδρομηκή ταξινόμηση, τα οποία να τείνουν να προβλέπουν συχνότερα την κλάση με τα περισσότερα δείγματα.\n",
        "\n",
        "**Συμπερασματικα, και δεδομένου του παρακάτω πίνακος, ο οποίος μας δείχνει τον συνολικό αριθμο μηδενικών στα χαρακτηριστικά, δηλαδή μετρήσεις με μηδενικές τιμές, που δεν ανταποκρίνονται στην πραγματικότητα. Παραδείγματος χάρη η αρτηριακή πίεση στο αίμα έχει 35 μηδενικές τιμές. Έτσι, καταλήγουμε στο συμπέρασμα ότι το σετ δεδομένων δεν αποτελείται από ποιοτικές τιμές.**"
      ],
      "metadata": {
        "id": "wZeKElOkwjXi"
      }
    },
    {
      "cell_type": "code",
      "source": [
        "(df==0).sum()"
      ],
      "metadata": {
        "id": "6ePxymOewjsm",
        "colab": {
          "base_uri": "https://localhost:8080/",
          "height": 366
        },
        "outputId": "3bebd060-627a-4bba-dac5-5586eafafbb2"
      },
      "execution_count": 132,
      "outputs": [
        {
          "output_type": "execute_result",
          "data": {
            "text/plain": [
              "Pregnancies                 111\n",
              "Glucose                       5\n",
              "BloodPressure                35\n",
              "SkinThickness               227\n",
              "Insulin                     374\n",
              "BMI                          11\n",
              "DiabetesPedigreeFunction      0\n",
              "Age                           0\n",
              "Outcome                     500\n",
              "dtype: int64"
            ],
            "text/html": [
              "<div>\n",
              "<style scoped>\n",
              "    .dataframe tbody tr th:only-of-type {\n",
              "        vertical-align: middle;\n",
              "    }\n",
              "\n",
              "    .dataframe tbody tr th {\n",
              "        vertical-align: top;\n",
              "    }\n",
              "\n",
              "    .dataframe thead th {\n",
              "        text-align: right;\n",
              "    }\n",
              "</style>\n",
              "<table border=\"1\" class=\"dataframe\">\n",
              "  <thead>\n",
              "    <tr style=\"text-align: right;\">\n",
              "      <th></th>\n",
              "      <th>0</th>\n",
              "    </tr>\n",
              "  </thead>\n",
              "  <tbody>\n",
              "    <tr>\n",
              "      <th>Pregnancies</th>\n",
              "      <td>111</td>\n",
              "    </tr>\n",
              "    <tr>\n",
              "      <th>Glucose</th>\n",
              "      <td>5</td>\n",
              "    </tr>\n",
              "    <tr>\n",
              "      <th>BloodPressure</th>\n",
              "      <td>35</td>\n",
              "    </tr>\n",
              "    <tr>\n",
              "      <th>SkinThickness</th>\n",
              "      <td>227</td>\n",
              "    </tr>\n",
              "    <tr>\n",
              "      <th>Insulin</th>\n",
              "      <td>374</td>\n",
              "    </tr>\n",
              "    <tr>\n",
              "      <th>BMI</th>\n",
              "      <td>11</td>\n",
              "    </tr>\n",
              "    <tr>\n",
              "      <th>DiabetesPedigreeFunction</th>\n",
              "      <td>0</td>\n",
              "    </tr>\n",
              "    <tr>\n",
              "      <th>Age</th>\n",
              "      <td>0</td>\n",
              "    </tr>\n",
              "    <tr>\n",
              "      <th>Outcome</th>\n",
              "      <td>500</td>\n",
              "    </tr>\n",
              "  </tbody>\n",
              "</table>\n",
              "</div><br><label><b>dtype:</b> int64</label>"
            ]
          },
          "metadata": {},
          "execution_count": 132
        }
      ]
    },
    {
      "cell_type": "markdown",
      "source": [
        "**Ερώτημα 3**"
      ],
      "metadata": {
        "id": "SOD37R1j-dqR"
      }
    },
    {
      "cell_type": "markdown",
      "source": [
        "Η κατανομή της μεταβλητής Age είναι δεξιά λοξή (right-skewed) το οποίο επιβεβαιώνεται αφού η διάμεσος (**median=29.000000**) είναι μικρότερη από τη μέση τιμή (**mean= 33.240885**). Επίσης, δεν υπάρχει μεγάλη τυπική απόκλιση (**std=11.760232**), και το μεγαλύτερο πλήθος των δεδομένων βρίσκεται σε άτομα μεταξύ των 20-40 ετών και αρκετά λιγότερα δεδομένα σε άτομα 60 ετών. Συνεπώς, δεν είναι καλή κατανομή για την κατασκευή της συγκεκριμένης εφαρμογής, διότι θα έπρεπε τα δείγματα να είναι ισοκατανεμημένα στις διαφορετικές ηλικίες."
      ],
      "metadata": {
        "id": "8LgZ8I8t-kuP"
      }
    },
    {
      "cell_type": "markdown",
      "source": [
        "**Ερώτημα 4**"
      ],
      "metadata": {
        "id": "Pe1Z5D0UB_wH"
      }
    },
    {
      "cell_type": "markdown",
      "source": [
        "Ένας δείκτης αξιολόγησης των κλινικών μελετών, αποτελεί η σύγκριση των δειγμάτων του χαρακτηριστικού της γλυκόζης μεταξύ των δύο κλάσεων. **Συνεπώς θα υπολογιστεί η μέση τιμή των δειγμάτων της γλυκόζης που έχουν οδηγήσει σε στην κλάση 0 και η μέση τιμή των δειγμάτων της γλυκόζης που έχουν οδηγήσει σε στην κλάση 1. Αν η μέση τιμή των δειγμάτων της γλυκόζης στην κλάση 1 είναι μεγαλύτερη, τότε τα δεδομένα συνάδουν με το αποτέλεσμα της κλινικής μελέτης.**\n",
        "\n",
        "Το παρακάτω κελί κώδικα απεικονίζει αυτές τις μέσες τιμές, οι οποίες μας οδηγούν στην εγκυρότητα του αποτελέσματος των κλινικών μελετών. Δηλαδή ότι ασθενείς με διαβήτη έχουν σημαντικά υψηλότερη μέση τιμή γλυκόζης.\n"
      ],
      "metadata": {
        "id": "JQVR_Iy5CCKG"
      }
    },
    {
      "cell_type": "code",
      "source": [
        "df.groupby('Outcome')['Glucose'].mean()"
      ],
      "metadata": {
        "colab": {
          "base_uri": "https://localhost:8080/",
          "height": 178
        },
        "id": "GaPTnHPG-j-c",
        "outputId": "52319bbc-e482-4bc5-a9f1-07325ee8fd36"
      },
      "execution_count": 133,
      "outputs": [
        {
          "output_type": "execute_result",
          "data": {
            "text/plain": [
              "Outcome\n",
              "0    109.980000\n",
              "1    141.257463\n",
              "Name: Glucose, dtype: float64"
            ],
            "text/html": [
              "<div>\n",
              "<style scoped>\n",
              "    .dataframe tbody tr th:only-of-type {\n",
              "        vertical-align: middle;\n",
              "    }\n",
              "\n",
              "    .dataframe tbody tr th {\n",
              "        vertical-align: top;\n",
              "    }\n",
              "\n",
              "    .dataframe thead th {\n",
              "        text-align: right;\n",
              "    }\n",
              "</style>\n",
              "<table border=\"1\" class=\"dataframe\">\n",
              "  <thead>\n",
              "    <tr style=\"text-align: right;\">\n",
              "      <th></th>\n",
              "      <th>Glucose</th>\n",
              "    </tr>\n",
              "    <tr>\n",
              "      <th>Outcome</th>\n",
              "      <th></th>\n",
              "    </tr>\n",
              "  </thead>\n",
              "  <tbody>\n",
              "    <tr>\n",
              "      <th>0</th>\n",
              "      <td>109.980000</td>\n",
              "    </tr>\n",
              "    <tr>\n",
              "      <th>1</th>\n",
              "      <td>141.257463</td>\n",
              "    </tr>\n",
              "  </tbody>\n",
              "</table>\n",
              "</div><br><label><b>dtype:</b> float64</label>"
            ]
          },
          "metadata": {},
          "execution_count": 133
        }
      ]
    },
    {
      "cell_type": "markdown",
      "source": [
        "**Ερώτημα 5**"
      ],
      "metadata": {
        "id": "reviPTzVDn8p"
      }
    },
    {
      "cell_type": "code",
      "source": [
        "# Split the Dataset to inputs(x) and targets(y)\n",
        "inputs_df= df.drop(columns='Outcome')\n",
        "targets_df=df['Outcome']\n",
        "\n",
        "\n",
        "# Convert the above dataframe objects to numpy arrays\n",
        "x=inputs_df.to_numpy()\n",
        "y=targets_df.to_numpy()\n",
        "x.shape, y.shape\n"
      ],
      "metadata": {
        "colab": {
          "base_uri": "https://localhost:8080/"
        },
        "id": "colOr1JkDZPc",
        "outputId": "4b9ddc1b-18bb-47f8-e711-89d0a6e27229"
      },
      "execution_count": 134,
      "outputs": [
        {
          "output_type": "execute_result",
          "data": {
            "text/plain": [
              "((768, 8), (768,))"
            ]
          },
          "metadata": {},
          "execution_count": 134
        }
      ]
    },
    {
      "cell_type": "markdown",
      "source": [
        "Χωρισμός των παραπάνω πινάκων σε σύνολα εκπαίδευσης και επικύρωσης (training, validation)"
      ],
      "metadata": {
        "id": "hoX8m-xvFZUN"
      }
    },
    {
      "cell_type": "code",
      "source": [
        "# Define a random seed\n",
        "seed=0\n",
        "# Split the data to 70-30\n",
        "split_size=0.3\n",
        "\n",
        "X_train, X_valid, y_train, y_valid = train_test_split(x, y, test_size=split_size, random_state=seed)\n",
        "X_train.shape, X_valid.shape, y_train.shape, y_valid.shape        #Print the shape of each array"
      ],
      "metadata": {
        "colab": {
          "base_uri": "https://localhost:8080/"
        },
        "id": "cYbGTQY9EtUF",
        "outputId": "95949461-ea88-4904-eb22-7450c93ab9e3"
      },
      "execution_count": 135,
      "outputs": [
        {
          "output_type": "execute_result",
          "data": {
            "text/plain": [
              "((537, 8), (231, 8), (537,), (231,))"
            ]
          },
          "metadata": {},
          "execution_count": 135
        }
      ]
    },
    {
      "cell_type": "markdown",
      "source": [
        "**Ερώτημα 6**"
      ],
      "metadata": {
        "id": "cHFYrKMxGaZD"
      }
    },
    {
      "cell_type": "code",
      "source": [
        "# Load and use the Logistic Regression Model\n",
        "model=LogisticRegression(max_iter=1000, random_state=seed)\n",
        "# Fit the model to the train set.\n",
        "model.fit(X_train, y_train)\n",
        "# Calculate the accuracy in the TRAIN set with seed=0\n",
        "X_train_predictions= model.predict(X_train)\n",
        "accuracy_of_training=accuracy_score(y_train,X_train_predictions)\n",
        "print(f\"Accuracy of the model in Train set: {accuracy_of_training*100:.2f}%\")\n"
      ],
      "metadata": {
        "colab": {
          "base_uri": "https://localhost:8080/"
        },
        "id": "y8df6g1_GeLf",
        "outputId": "1e53ec1f-e69d-43c9-ed5c-4e1da31165cd"
      },
      "execution_count": 136,
      "outputs": [
        {
          "output_type": "stream",
          "name": "stdout",
          "text": [
            "Accuracy of the model in Train set: 76.54%\n"
          ]
        }
      ]
    },
    {
      "cell_type": "markdown",
      "source": [
        "**Accuacy of the model in Test set**"
      ],
      "metadata": {
        "id": "fEoaTAbAIaEZ"
      }
    },
    {
      "cell_type": "code",
      "source": [
        "# Calculate the Accuracy of the model in the test(validation) set.\n",
        "# In order to calculate the accuracy we need to fit the trained classifier to x_test.\n",
        "# Then to print the accuracy score of the model.\n",
        "predictions= model.predict(X_valid)\n",
        "print(predictions.shape, y_valid.shape)   # Predictions must have the same samples as the y_valid (231,) for the calculation of the accuracy score\n",
        "accuracy= accuracy_score(y_valid, predictions)\n",
        "print(f\"Accuracy of the model in Test set:: {accuracy*100:.2f}%\")"
      ],
      "metadata": {
        "colab": {
          "base_uri": "https://localhost:8080/"
        },
        "id": "YfYl3U7yGP59",
        "outputId": "4b8ef632-d9aa-48ca-da98-1ec969e74fe7"
      },
      "execution_count": 137,
      "outputs": [
        {
          "output_type": "stream",
          "name": "stdout",
          "text": [
            "(231,) (231,)\n",
            "Accuracy of the model in Test set:: 77.92%\n"
          ]
        }
      ]
    },
    {
      "cell_type": "markdown",
      "source": [
        "Η ακρίβεια του μοντέλου στο τεστ σετ είναι **μεγαλύτερη περίπου κατα 1.5%**, το οποίο σημαίνει ότι το μοντέλο έχει συγκλίσει και εκπαιδευτεί σωστά, εφόσον μπορεί να γενικεύση σε καινούρια δείγματα με καλύτερη απόδοση."
      ],
      "metadata": {
        "id": "AE7Ck4KqM7dn"
      }
    },
    {
      "cell_type": "markdown",
      "source": [
        "**Ερώτημα 7**"
      ],
      "metadata": {
        "id": "2-5dwtATNx0J"
      }
    },
    {
      "cell_type": "markdown",
      "source": [
        "Παρουσίαση ραβδογράμματος σε διαφορετικές ηλικίες, ώστε να αξιολογηθεί η επίδοση του ταξινομητή σε 3 διαφορετικά ηλικιακά γρουπς.\n",
        "\n",
        "Το επόμενο κελί δημιουργεί ένα καινούριο DataFrame, περιλαμβάνοντας το Age, Predicted & Actual values.\n"
      ],
      "metadata": {
        "id": "8nRIu_yCN1Pr"
      }
    },
    {
      "cell_type": "code",
      "source": [
        "# Create a new Dataframe with the three columns: Age, Predictions, Actual values\n",
        "results= pd.DataFrame({\n",
        "    \"Predicted Values\": predictions,\n",
        "    \"Actual Values\": y_valid\n",
        "})\n",
        "results['Age'] = df.loc[results.index, 'Age']\n",
        "results= results[['Age', 'Predicted Values', 'Actual Values']]\n",
        "results\n"
      ],
      "metadata": {
        "colab": {
          "base_uri": "https://localhost:8080/",
          "height": 423
        },
        "id": "FD2hy4z3O8t7",
        "outputId": "551576ea-2f89-479b-d51f-3cc411ee51ec"
      },
      "execution_count": 138,
      "outputs": [
        {
          "output_type": "execute_result",
          "data": {
            "text/plain": [
              "     Age  Predicted Values  Actual Values\n",
              "0     50                 1              1\n",
              "1     31                 0              0\n",
              "2     32                 0              0\n",
              "3     21                 1              1\n",
              "4     33                 0              0\n",
              "..   ...               ...            ...\n",
              "226   26                 0              1\n",
              "227   24                 0              1\n",
              "228   31                 0              0\n",
              "229   24                 0              0\n",
              "230   22                 0              0\n",
              "\n",
              "[231 rows x 3 columns]"
            ],
            "text/html": [
              "\n",
              "  <div id=\"df-c76f4085-d881-4943-b1cf-c9a9ba1a223a\" class=\"colab-df-container\">\n",
              "    <div>\n",
              "<style scoped>\n",
              "    .dataframe tbody tr th:only-of-type {\n",
              "        vertical-align: middle;\n",
              "    }\n",
              "\n",
              "    .dataframe tbody tr th {\n",
              "        vertical-align: top;\n",
              "    }\n",
              "\n",
              "    .dataframe thead th {\n",
              "        text-align: right;\n",
              "    }\n",
              "</style>\n",
              "<table border=\"1\" class=\"dataframe\">\n",
              "  <thead>\n",
              "    <tr style=\"text-align: right;\">\n",
              "      <th></th>\n",
              "      <th>Age</th>\n",
              "      <th>Predicted Values</th>\n",
              "      <th>Actual Values</th>\n",
              "    </tr>\n",
              "  </thead>\n",
              "  <tbody>\n",
              "    <tr>\n",
              "      <th>0</th>\n",
              "      <td>50</td>\n",
              "      <td>1</td>\n",
              "      <td>1</td>\n",
              "    </tr>\n",
              "    <tr>\n",
              "      <th>1</th>\n",
              "      <td>31</td>\n",
              "      <td>0</td>\n",
              "      <td>0</td>\n",
              "    </tr>\n",
              "    <tr>\n",
              "      <th>2</th>\n",
              "      <td>32</td>\n",
              "      <td>0</td>\n",
              "      <td>0</td>\n",
              "    </tr>\n",
              "    <tr>\n",
              "      <th>3</th>\n",
              "      <td>21</td>\n",
              "      <td>1</td>\n",
              "      <td>1</td>\n",
              "    </tr>\n",
              "    <tr>\n",
              "      <th>4</th>\n",
              "      <td>33</td>\n",
              "      <td>0</td>\n",
              "      <td>0</td>\n",
              "    </tr>\n",
              "    <tr>\n",
              "      <th>...</th>\n",
              "      <td>...</td>\n",
              "      <td>...</td>\n",
              "      <td>...</td>\n",
              "    </tr>\n",
              "    <tr>\n",
              "      <th>226</th>\n",
              "      <td>26</td>\n",
              "      <td>0</td>\n",
              "      <td>1</td>\n",
              "    </tr>\n",
              "    <tr>\n",
              "      <th>227</th>\n",
              "      <td>24</td>\n",
              "      <td>0</td>\n",
              "      <td>1</td>\n",
              "    </tr>\n",
              "    <tr>\n",
              "      <th>228</th>\n",
              "      <td>31</td>\n",
              "      <td>0</td>\n",
              "      <td>0</td>\n",
              "    </tr>\n",
              "    <tr>\n",
              "      <th>229</th>\n",
              "      <td>24</td>\n",
              "      <td>0</td>\n",
              "      <td>0</td>\n",
              "    </tr>\n",
              "    <tr>\n",
              "      <th>230</th>\n",
              "      <td>22</td>\n",
              "      <td>0</td>\n",
              "      <td>0</td>\n",
              "    </tr>\n",
              "  </tbody>\n",
              "</table>\n",
              "<p>231 rows × 3 columns</p>\n",
              "</div>\n",
              "    <div class=\"colab-df-buttons\">\n",
              "\n",
              "  <div class=\"colab-df-container\">\n",
              "    <button class=\"colab-df-convert\" onclick=\"convertToInteractive('df-c76f4085-d881-4943-b1cf-c9a9ba1a223a')\"\n",
              "            title=\"Convert this dataframe to an interactive table.\"\n",
              "            style=\"display:none;\">\n",
              "\n",
              "  <svg xmlns=\"http://www.w3.org/2000/svg\" height=\"24px\" viewBox=\"0 -960 960 960\">\n",
              "    <path d=\"M120-120v-720h720v720H120Zm60-500h600v-160H180v160Zm220 220h160v-160H400v160Zm0 220h160v-160H400v160ZM180-400h160v-160H180v160Zm440 0h160v-160H620v160ZM180-180h160v-160H180v160Zm440 0h160v-160H620v160Z\"/>\n",
              "  </svg>\n",
              "    </button>\n",
              "\n",
              "  <style>\n",
              "    .colab-df-container {\n",
              "      display:flex;\n",
              "      gap: 12px;\n",
              "    }\n",
              "\n",
              "    .colab-df-convert {\n",
              "      background-color: #E8F0FE;\n",
              "      border: none;\n",
              "      border-radius: 50%;\n",
              "      cursor: pointer;\n",
              "      display: none;\n",
              "      fill: #1967D2;\n",
              "      height: 32px;\n",
              "      padding: 0 0 0 0;\n",
              "      width: 32px;\n",
              "    }\n",
              "\n",
              "    .colab-df-convert:hover {\n",
              "      background-color: #E2EBFA;\n",
              "      box-shadow: 0px 1px 2px rgba(60, 64, 67, 0.3), 0px 1px 3px 1px rgba(60, 64, 67, 0.15);\n",
              "      fill: #174EA6;\n",
              "    }\n",
              "\n",
              "    .colab-df-buttons div {\n",
              "      margin-bottom: 4px;\n",
              "    }\n",
              "\n",
              "    [theme=dark] .colab-df-convert {\n",
              "      background-color: #3B4455;\n",
              "      fill: #D2E3FC;\n",
              "    }\n",
              "\n",
              "    [theme=dark] .colab-df-convert:hover {\n",
              "      background-color: #434B5C;\n",
              "      box-shadow: 0px 1px 3px 1px rgba(0, 0, 0, 0.15);\n",
              "      filter: drop-shadow(0px 1px 2px rgba(0, 0, 0, 0.3));\n",
              "      fill: #FFFFFF;\n",
              "    }\n",
              "  </style>\n",
              "\n",
              "    <script>\n",
              "      const buttonEl =\n",
              "        document.querySelector('#df-c76f4085-d881-4943-b1cf-c9a9ba1a223a button.colab-df-convert');\n",
              "      buttonEl.style.display =\n",
              "        google.colab.kernel.accessAllowed ? 'block' : 'none';\n",
              "\n",
              "      async function convertToInteractive(key) {\n",
              "        const element = document.querySelector('#df-c76f4085-d881-4943-b1cf-c9a9ba1a223a');\n",
              "        const dataTable =\n",
              "          await google.colab.kernel.invokeFunction('convertToInteractive',\n",
              "                                                    [key], {});\n",
              "        if (!dataTable) return;\n",
              "\n",
              "        const docLinkHtml = 'Like what you see? Visit the ' +\n",
              "          '<a target=\"_blank\" href=https://colab.research.google.com/notebooks/data_table.ipynb>data table notebook</a>'\n",
              "          + ' to learn more about interactive tables.';\n",
              "        element.innerHTML = '';\n",
              "        dataTable['output_type'] = 'display_data';\n",
              "        await google.colab.output.renderOutput(dataTable, element);\n",
              "        const docLink = document.createElement('div');\n",
              "        docLink.innerHTML = docLinkHtml;\n",
              "        element.appendChild(docLink);\n",
              "      }\n",
              "    </script>\n",
              "  </div>\n",
              "\n",
              "\n",
              "    <div id=\"df-4d06168a-ebf9-4958-a416-adecec82c31d\">\n",
              "      <button class=\"colab-df-quickchart\" onclick=\"quickchart('df-4d06168a-ebf9-4958-a416-adecec82c31d')\"\n",
              "                title=\"Suggest charts\"\n",
              "                style=\"display:none;\">\n",
              "\n",
              "<svg xmlns=\"http://www.w3.org/2000/svg\" height=\"24px\"viewBox=\"0 0 24 24\"\n",
              "     width=\"24px\">\n",
              "    <g>\n",
              "        <path d=\"M19 3H5c-1.1 0-2 .9-2 2v14c0 1.1.9 2 2 2h14c1.1 0 2-.9 2-2V5c0-1.1-.9-2-2-2zM9 17H7v-7h2v7zm4 0h-2V7h2v10zm4 0h-2v-4h2v4z\"/>\n",
              "    </g>\n",
              "</svg>\n",
              "      </button>\n",
              "\n",
              "<style>\n",
              "  .colab-df-quickchart {\n",
              "      --bg-color: #E8F0FE;\n",
              "      --fill-color: #1967D2;\n",
              "      --hover-bg-color: #E2EBFA;\n",
              "      --hover-fill-color: #174EA6;\n",
              "      --disabled-fill-color: #AAA;\n",
              "      --disabled-bg-color: #DDD;\n",
              "  }\n",
              "\n",
              "  [theme=dark] .colab-df-quickchart {\n",
              "      --bg-color: #3B4455;\n",
              "      --fill-color: #D2E3FC;\n",
              "      --hover-bg-color: #434B5C;\n",
              "      --hover-fill-color: #FFFFFF;\n",
              "      --disabled-bg-color: #3B4455;\n",
              "      --disabled-fill-color: #666;\n",
              "  }\n",
              "\n",
              "  .colab-df-quickchart {\n",
              "    background-color: var(--bg-color);\n",
              "    border: none;\n",
              "    border-radius: 50%;\n",
              "    cursor: pointer;\n",
              "    display: none;\n",
              "    fill: var(--fill-color);\n",
              "    height: 32px;\n",
              "    padding: 0;\n",
              "    width: 32px;\n",
              "  }\n",
              "\n",
              "  .colab-df-quickchart:hover {\n",
              "    background-color: var(--hover-bg-color);\n",
              "    box-shadow: 0 1px 2px rgba(60, 64, 67, 0.3), 0 1px 3px 1px rgba(60, 64, 67, 0.15);\n",
              "    fill: var(--button-hover-fill-color);\n",
              "  }\n",
              "\n",
              "  .colab-df-quickchart-complete:disabled,\n",
              "  .colab-df-quickchart-complete:disabled:hover {\n",
              "    background-color: var(--disabled-bg-color);\n",
              "    fill: var(--disabled-fill-color);\n",
              "    box-shadow: none;\n",
              "  }\n",
              "\n",
              "  .colab-df-spinner {\n",
              "    border: 2px solid var(--fill-color);\n",
              "    border-color: transparent;\n",
              "    border-bottom-color: var(--fill-color);\n",
              "    animation:\n",
              "      spin 1s steps(1) infinite;\n",
              "  }\n",
              "\n",
              "  @keyframes spin {\n",
              "    0% {\n",
              "      border-color: transparent;\n",
              "      border-bottom-color: var(--fill-color);\n",
              "      border-left-color: var(--fill-color);\n",
              "    }\n",
              "    20% {\n",
              "      border-color: transparent;\n",
              "      border-left-color: var(--fill-color);\n",
              "      border-top-color: var(--fill-color);\n",
              "    }\n",
              "    30% {\n",
              "      border-color: transparent;\n",
              "      border-left-color: var(--fill-color);\n",
              "      border-top-color: var(--fill-color);\n",
              "      border-right-color: var(--fill-color);\n",
              "    }\n",
              "    40% {\n",
              "      border-color: transparent;\n",
              "      border-right-color: var(--fill-color);\n",
              "      border-top-color: var(--fill-color);\n",
              "    }\n",
              "    60% {\n",
              "      border-color: transparent;\n",
              "      border-right-color: var(--fill-color);\n",
              "    }\n",
              "    80% {\n",
              "      border-color: transparent;\n",
              "      border-right-color: var(--fill-color);\n",
              "      border-bottom-color: var(--fill-color);\n",
              "    }\n",
              "    90% {\n",
              "      border-color: transparent;\n",
              "      border-bottom-color: var(--fill-color);\n",
              "    }\n",
              "  }\n",
              "</style>\n",
              "\n",
              "      <script>\n",
              "        async function quickchart(key) {\n",
              "          const quickchartButtonEl =\n",
              "            document.querySelector('#' + key + ' button');\n",
              "          quickchartButtonEl.disabled = true;  // To prevent multiple clicks.\n",
              "          quickchartButtonEl.classList.add('colab-df-spinner');\n",
              "          try {\n",
              "            const charts = await google.colab.kernel.invokeFunction(\n",
              "                'suggestCharts', [key], {});\n",
              "          } catch (error) {\n",
              "            console.error('Error during call to suggestCharts:', error);\n",
              "          }\n",
              "          quickchartButtonEl.classList.remove('colab-df-spinner');\n",
              "          quickchartButtonEl.classList.add('colab-df-quickchart-complete');\n",
              "        }\n",
              "        (() => {\n",
              "          let quickchartButtonEl =\n",
              "            document.querySelector('#df-4d06168a-ebf9-4958-a416-adecec82c31d button');\n",
              "          quickchartButtonEl.style.display =\n",
              "            google.colab.kernel.accessAllowed ? 'block' : 'none';\n",
              "        })();\n",
              "      </script>\n",
              "    </div>\n",
              "\n",
              "  <div id=\"id_8ab906af-a197-4dec-bd2d-6f3e805e3005\">\n",
              "    <style>\n",
              "      .colab-df-generate {\n",
              "        background-color: #E8F0FE;\n",
              "        border: none;\n",
              "        border-radius: 50%;\n",
              "        cursor: pointer;\n",
              "        display: none;\n",
              "        fill: #1967D2;\n",
              "        height: 32px;\n",
              "        padding: 0 0 0 0;\n",
              "        width: 32px;\n",
              "      }\n",
              "\n",
              "      .colab-df-generate:hover {\n",
              "        background-color: #E2EBFA;\n",
              "        box-shadow: 0px 1px 2px rgba(60, 64, 67, 0.3), 0px 1px 3px 1px rgba(60, 64, 67, 0.15);\n",
              "        fill: #174EA6;\n",
              "      }\n",
              "\n",
              "      [theme=dark] .colab-df-generate {\n",
              "        background-color: #3B4455;\n",
              "        fill: #D2E3FC;\n",
              "      }\n",
              "\n",
              "      [theme=dark] .colab-df-generate:hover {\n",
              "        background-color: #434B5C;\n",
              "        box-shadow: 0px 1px 3px 1px rgba(0, 0, 0, 0.15);\n",
              "        filter: drop-shadow(0px 1px 2px rgba(0, 0, 0, 0.3));\n",
              "        fill: #FFFFFF;\n",
              "      }\n",
              "    </style>\n",
              "    <button class=\"colab-df-generate\" onclick=\"generateWithVariable('results')\"\n",
              "            title=\"Generate code using this dataframe.\"\n",
              "            style=\"display:none;\">\n",
              "\n",
              "  <svg xmlns=\"http://www.w3.org/2000/svg\" height=\"24px\"viewBox=\"0 0 24 24\"\n",
              "       width=\"24px\">\n",
              "    <path d=\"M7,19H8.4L18.45,9,17,7.55,7,17.6ZM5,21V16.75L18.45,3.32a2,2,0,0,1,2.83,0l1.4,1.43a1.91,1.91,0,0,1,.58,1.4,1.91,1.91,0,0,1-.58,1.4L9.25,21ZM18.45,9,17,7.55Zm-12,3A5.31,5.31,0,0,0,4.9,8.1,5.31,5.31,0,0,0,1,6.5,5.31,5.31,0,0,0,4.9,4.9,5.31,5.31,0,0,0,6.5,1,5.31,5.31,0,0,0,8.1,4.9,5.31,5.31,0,0,0,12,6.5,5.46,5.46,0,0,0,6.5,12Z\"/>\n",
              "  </svg>\n",
              "    </button>\n",
              "    <script>\n",
              "      (() => {\n",
              "      const buttonEl =\n",
              "        document.querySelector('#id_8ab906af-a197-4dec-bd2d-6f3e805e3005 button.colab-df-generate');\n",
              "      buttonEl.style.display =\n",
              "        google.colab.kernel.accessAllowed ? 'block' : 'none';\n",
              "\n",
              "      buttonEl.onclick = () => {\n",
              "        google.colab.notebook.generateWithVariable('results');\n",
              "      }\n",
              "      })();\n",
              "    </script>\n",
              "  </div>\n",
              "\n",
              "    </div>\n",
              "  </div>\n"
            ],
            "application/vnd.google.colaboratory.intrinsic+json": {
              "type": "dataframe",
              "variable_name": "results",
              "summary": "{\n  \"name\": \"results\",\n  \"rows\": 231,\n  \"fields\": [\n    {\n      \"column\": \"Age\",\n      \"properties\": {\n        \"dtype\": \"number\",\n        \"std\": 11,\n        \"min\": 21,\n        \"max\": 69,\n        \"num_unique_values\": 44,\n        \"samples\": [\n          69,\n          56,\n          37\n        ],\n        \"semantic_type\": \"\",\n        \"description\": \"\"\n      }\n    },\n    {\n      \"column\": \"Predicted Values\",\n      \"properties\": {\n        \"dtype\": \"number\",\n        \"std\": 0,\n        \"min\": 0,\n        \"max\": 1,\n        \"num_unique_values\": 2,\n        \"samples\": [\n          0,\n          1\n        ],\n        \"semantic_type\": \"\",\n        \"description\": \"\"\n      }\n    },\n    {\n      \"column\": \"Actual Values\",\n      \"properties\": {\n        \"dtype\": \"number\",\n        \"std\": 0,\n        \"min\": 0,\n        \"max\": 1,\n        \"num_unique_values\": 2,\n        \"samples\": [\n          0,\n          1\n        ],\n        \"semantic_type\": \"\",\n        \"description\": \"\"\n      }\n    }\n  ]\n}"
            }
          },
          "metadata": {},
          "execution_count": 138
        }
      ]
    },
    {
      "cell_type": "markdown",
      "source": [
        "Στη συνέχεια στο προηγούμενο DataFrame, προσθέτουμε ακόμη μία στήλη που ομαδοποιεί τα δεδομένα μας σε τρεις διαφορετικές ηλικιακές ομάδες."
      ],
      "metadata": {
        "id": "ulcCsw8MFlpk"
      }
    },
    {
      "cell_type": "code",
      "source": [
        "# Group by [0-25] , [25-50], [50- max] , And create a new column in results dataframe\n",
        "labels = ['0-25', '25-50', '50+']\n",
        "bins = [0, 25, 50, results['Age'].max()]                                # Define the bins: this creates three intervals based on labels.\n",
        "results['AgeGroup'] = pd.cut(results['Age'], bins=bins, labels=labels)  # Takes each numeric value from column Age and categorized according to the bin\n",
        "results"
      ],
      "metadata": {
        "colab": {
          "base_uri": "https://localhost:8080/",
          "height": 423
        },
        "id": "dQY18bjhQfMX",
        "outputId": "64fe0a79-cf50-4d15-9cdf-0a4ab6523fd0"
      },
      "execution_count": 139,
      "outputs": [
        {
          "output_type": "execute_result",
          "data": {
            "text/plain": [
              "     Age  Predicted Values  Actual Values AgeGroup\n",
              "0     50                 1              1    25-50\n",
              "1     31                 0              0    25-50\n",
              "2     32                 0              0    25-50\n",
              "3     21                 1              1     0-25\n",
              "4     33                 0              0    25-50\n",
              "..   ...               ...            ...      ...\n",
              "226   26                 0              1    25-50\n",
              "227   24                 0              1     0-25\n",
              "228   31                 0              0    25-50\n",
              "229   24                 0              0     0-25\n",
              "230   22                 0              0     0-25\n",
              "\n",
              "[231 rows x 4 columns]"
            ],
            "text/html": [
              "\n",
              "  <div id=\"df-626921e2-fbfa-4319-b007-71d73716e689\" class=\"colab-df-container\">\n",
              "    <div>\n",
              "<style scoped>\n",
              "    .dataframe tbody tr th:only-of-type {\n",
              "        vertical-align: middle;\n",
              "    }\n",
              "\n",
              "    .dataframe tbody tr th {\n",
              "        vertical-align: top;\n",
              "    }\n",
              "\n",
              "    .dataframe thead th {\n",
              "        text-align: right;\n",
              "    }\n",
              "</style>\n",
              "<table border=\"1\" class=\"dataframe\">\n",
              "  <thead>\n",
              "    <tr style=\"text-align: right;\">\n",
              "      <th></th>\n",
              "      <th>Age</th>\n",
              "      <th>Predicted Values</th>\n",
              "      <th>Actual Values</th>\n",
              "      <th>AgeGroup</th>\n",
              "    </tr>\n",
              "  </thead>\n",
              "  <tbody>\n",
              "    <tr>\n",
              "      <th>0</th>\n",
              "      <td>50</td>\n",
              "      <td>1</td>\n",
              "      <td>1</td>\n",
              "      <td>25-50</td>\n",
              "    </tr>\n",
              "    <tr>\n",
              "      <th>1</th>\n",
              "      <td>31</td>\n",
              "      <td>0</td>\n",
              "      <td>0</td>\n",
              "      <td>25-50</td>\n",
              "    </tr>\n",
              "    <tr>\n",
              "      <th>2</th>\n",
              "      <td>32</td>\n",
              "      <td>0</td>\n",
              "      <td>0</td>\n",
              "      <td>25-50</td>\n",
              "    </tr>\n",
              "    <tr>\n",
              "      <th>3</th>\n",
              "      <td>21</td>\n",
              "      <td>1</td>\n",
              "      <td>1</td>\n",
              "      <td>0-25</td>\n",
              "    </tr>\n",
              "    <tr>\n",
              "      <th>4</th>\n",
              "      <td>33</td>\n",
              "      <td>0</td>\n",
              "      <td>0</td>\n",
              "      <td>25-50</td>\n",
              "    </tr>\n",
              "    <tr>\n",
              "      <th>...</th>\n",
              "      <td>...</td>\n",
              "      <td>...</td>\n",
              "      <td>...</td>\n",
              "      <td>...</td>\n",
              "    </tr>\n",
              "    <tr>\n",
              "      <th>226</th>\n",
              "      <td>26</td>\n",
              "      <td>0</td>\n",
              "      <td>1</td>\n",
              "      <td>25-50</td>\n",
              "    </tr>\n",
              "    <tr>\n",
              "      <th>227</th>\n",
              "      <td>24</td>\n",
              "      <td>0</td>\n",
              "      <td>1</td>\n",
              "      <td>0-25</td>\n",
              "    </tr>\n",
              "    <tr>\n",
              "      <th>228</th>\n",
              "      <td>31</td>\n",
              "      <td>0</td>\n",
              "      <td>0</td>\n",
              "      <td>25-50</td>\n",
              "    </tr>\n",
              "    <tr>\n",
              "      <th>229</th>\n",
              "      <td>24</td>\n",
              "      <td>0</td>\n",
              "      <td>0</td>\n",
              "      <td>0-25</td>\n",
              "    </tr>\n",
              "    <tr>\n",
              "      <th>230</th>\n",
              "      <td>22</td>\n",
              "      <td>0</td>\n",
              "      <td>0</td>\n",
              "      <td>0-25</td>\n",
              "    </tr>\n",
              "  </tbody>\n",
              "</table>\n",
              "<p>231 rows × 4 columns</p>\n",
              "</div>\n",
              "    <div class=\"colab-df-buttons\">\n",
              "\n",
              "  <div class=\"colab-df-container\">\n",
              "    <button class=\"colab-df-convert\" onclick=\"convertToInteractive('df-626921e2-fbfa-4319-b007-71d73716e689')\"\n",
              "            title=\"Convert this dataframe to an interactive table.\"\n",
              "            style=\"display:none;\">\n",
              "\n",
              "  <svg xmlns=\"http://www.w3.org/2000/svg\" height=\"24px\" viewBox=\"0 -960 960 960\">\n",
              "    <path d=\"M120-120v-720h720v720H120Zm60-500h600v-160H180v160Zm220 220h160v-160H400v160Zm0 220h160v-160H400v160ZM180-400h160v-160H180v160Zm440 0h160v-160H620v160ZM180-180h160v-160H180v160Zm440 0h160v-160H620v160Z\"/>\n",
              "  </svg>\n",
              "    </button>\n",
              "\n",
              "  <style>\n",
              "    .colab-df-container {\n",
              "      display:flex;\n",
              "      gap: 12px;\n",
              "    }\n",
              "\n",
              "    .colab-df-convert {\n",
              "      background-color: #E8F0FE;\n",
              "      border: none;\n",
              "      border-radius: 50%;\n",
              "      cursor: pointer;\n",
              "      display: none;\n",
              "      fill: #1967D2;\n",
              "      height: 32px;\n",
              "      padding: 0 0 0 0;\n",
              "      width: 32px;\n",
              "    }\n",
              "\n",
              "    .colab-df-convert:hover {\n",
              "      background-color: #E2EBFA;\n",
              "      box-shadow: 0px 1px 2px rgba(60, 64, 67, 0.3), 0px 1px 3px 1px rgba(60, 64, 67, 0.15);\n",
              "      fill: #174EA6;\n",
              "    }\n",
              "\n",
              "    .colab-df-buttons div {\n",
              "      margin-bottom: 4px;\n",
              "    }\n",
              "\n",
              "    [theme=dark] .colab-df-convert {\n",
              "      background-color: #3B4455;\n",
              "      fill: #D2E3FC;\n",
              "    }\n",
              "\n",
              "    [theme=dark] .colab-df-convert:hover {\n",
              "      background-color: #434B5C;\n",
              "      box-shadow: 0px 1px 3px 1px rgba(0, 0, 0, 0.15);\n",
              "      filter: drop-shadow(0px 1px 2px rgba(0, 0, 0, 0.3));\n",
              "      fill: #FFFFFF;\n",
              "    }\n",
              "  </style>\n",
              "\n",
              "    <script>\n",
              "      const buttonEl =\n",
              "        document.querySelector('#df-626921e2-fbfa-4319-b007-71d73716e689 button.colab-df-convert');\n",
              "      buttonEl.style.display =\n",
              "        google.colab.kernel.accessAllowed ? 'block' : 'none';\n",
              "\n",
              "      async function convertToInteractive(key) {\n",
              "        const element = document.querySelector('#df-626921e2-fbfa-4319-b007-71d73716e689');\n",
              "        const dataTable =\n",
              "          await google.colab.kernel.invokeFunction('convertToInteractive',\n",
              "                                                    [key], {});\n",
              "        if (!dataTable) return;\n",
              "\n",
              "        const docLinkHtml = 'Like what you see? Visit the ' +\n",
              "          '<a target=\"_blank\" href=https://colab.research.google.com/notebooks/data_table.ipynb>data table notebook</a>'\n",
              "          + ' to learn more about interactive tables.';\n",
              "        element.innerHTML = '';\n",
              "        dataTable['output_type'] = 'display_data';\n",
              "        await google.colab.output.renderOutput(dataTable, element);\n",
              "        const docLink = document.createElement('div');\n",
              "        docLink.innerHTML = docLinkHtml;\n",
              "        element.appendChild(docLink);\n",
              "      }\n",
              "    </script>\n",
              "  </div>\n",
              "\n",
              "\n",
              "    <div id=\"df-072d6ad8-8bd2-4a12-a113-b43f9b67e8b3\">\n",
              "      <button class=\"colab-df-quickchart\" onclick=\"quickchart('df-072d6ad8-8bd2-4a12-a113-b43f9b67e8b3')\"\n",
              "                title=\"Suggest charts\"\n",
              "                style=\"display:none;\">\n",
              "\n",
              "<svg xmlns=\"http://www.w3.org/2000/svg\" height=\"24px\"viewBox=\"0 0 24 24\"\n",
              "     width=\"24px\">\n",
              "    <g>\n",
              "        <path d=\"M19 3H5c-1.1 0-2 .9-2 2v14c0 1.1.9 2 2 2h14c1.1 0 2-.9 2-2V5c0-1.1-.9-2-2-2zM9 17H7v-7h2v7zm4 0h-2V7h2v10zm4 0h-2v-4h2v4z\"/>\n",
              "    </g>\n",
              "</svg>\n",
              "      </button>\n",
              "\n",
              "<style>\n",
              "  .colab-df-quickchart {\n",
              "      --bg-color: #E8F0FE;\n",
              "      --fill-color: #1967D2;\n",
              "      --hover-bg-color: #E2EBFA;\n",
              "      --hover-fill-color: #174EA6;\n",
              "      --disabled-fill-color: #AAA;\n",
              "      --disabled-bg-color: #DDD;\n",
              "  }\n",
              "\n",
              "  [theme=dark] .colab-df-quickchart {\n",
              "      --bg-color: #3B4455;\n",
              "      --fill-color: #D2E3FC;\n",
              "      --hover-bg-color: #434B5C;\n",
              "      --hover-fill-color: #FFFFFF;\n",
              "      --disabled-bg-color: #3B4455;\n",
              "      --disabled-fill-color: #666;\n",
              "  }\n",
              "\n",
              "  .colab-df-quickchart {\n",
              "    background-color: var(--bg-color);\n",
              "    border: none;\n",
              "    border-radius: 50%;\n",
              "    cursor: pointer;\n",
              "    display: none;\n",
              "    fill: var(--fill-color);\n",
              "    height: 32px;\n",
              "    padding: 0;\n",
              "    width: 32px;\n",
              "  }\n",
              "\n",
              "  .colab-df-quickchart:hover {\n",
              "    background-color: var(--hover-bg-color);\n",
              "    box-shadow: 0 1px 2px rgba(60, 64, 67, 0.3), 0 1px 3px 1px rgba(60, 64, 67, 0.15);\n",
              "    fill: var(--button-hover-fill-color);\n",
              "  }\n",
              "\n",
              "  .colab-df-quickchart-complete:disabled,\n",
              "  .colab-df-quickchart-complete:disabled:hover {\n",
              "    background-color: var(--disabled-bg-color);\n",
              "    fill: var(--disabled-fill-color);\n",
              "    box-shadow: none;\n",
              "  }\n",
              "\n",
              "  .colab-df-spinner {\n",
              "    border: 2px solid var(--fill-color);\n",
              "    border-color: transparent;\n",
              "    border-bottom-color: var(--fill-color);\n",
              "    animation:\n",
              "      spin 1s steps(1) infinite;\n",
              "  }\n",
              "\n",
              "  @keyframes spin {\n",
              "    0% {\n",
              "      border-color: transparent;\n",
              "      border-bottom-color: var(--fill-color);\n",
              "      border-left-color: var(--fill-color);\n",
              "    }\n",
              "    20% {\n",
              "      border-color: transparent;\n",
              "      border-left-color: var(--fill-color);\n",
              "      border-top-color: var(--fill-color);\n",
              "    }\n",
              "    30% {\n",
              "      border-color: transparent;\n",
              "      border-left-color: var(--fill-color);\n",
              "      border-top-color: var(--fill-color);\n",
              "      border-right-color: var(--fill-color);\n",
              "    }\n",
              "    40% {\n",
              "      border-color: transparent;\n",
              "      border-right-color: var(--fill-color);\n",
              "      border-top-color: var(--fill-color);\n",
              "    }\n",
              "    60% {\n",
              "      border-color: transparent;\n",
              "      border-right-color: var(--fill-color);\n",
              "    }\n",
              "    80% {\n",
              "      border-color: transparent;\n",
              "      border-right-color: var(--fill-color);\n",
              "      border-bottom-color: var(--fill-color);\n",
              "    }\n",
              "    90% {\n",
              "      border-color: transparent;\n",
              "      border-bottom-color: var(--fill-color);\n",
              "    }\n",
              "  }\n",
              "</style>\n",
              "\n",
              "      <script>\n",
              "        async function quickchart(key) {\n",
              "          const quickchartButtonEl =\n",
              "            document.querySelector('#' + key + ' button');\n",
              "          quickchartButtonEl.disabled = true;  // To prevent multiple clicks.\n",
              "          quickchartButtonEl.classList.add('colab-df-spinner');\n",
              "          try {\n",
              "            const charts = await google.colab.kernel.invokeFunction(\n",
              "                'suggestCharts', [key], {});\n",
              "          } catch (error) {\n",
              "            console.error('Error during call to suggestCharts:', error);\n",
              "          }\n",
              "          quickchartButtonEl.classList.remove('colab-df-spinner');\n",
              "          quickchartButtonEl.classList.add('colab-df-quickchart-complete');\n",
              "        }\n",
              "        (() => {\n",
              "          let quickchartButtonEl =\n",
              "            document.querySelector('#df-072d6ad8-8bd2-4a12-a113-b43f9b67e8b3 button');\n",
              "          quickchartButtonEl.style.display =\n",
              "            google.colab.kernel.accessAllowed ? 'block' : 'none';\n",
              "        })();\n",
              "      </script>\n",
              "    </div>\n",
              "\n",
              "  <div id=\"id_b371699e-6dd6-423f-86bd-1621dc3db2d6\">\n",
              "    <style>\n",
              "      .colab-df-generate {\n",
              "        background-color: #E8F0FE;\n",
              "        border: none;\n",
              "        border-radius: 50%;\n",
              "        cursor: pointer;\n",
              "        display: none;\n",
              "        fill: #1967D2;\n",
              "        height: 32px;\n",
              "        padding: 0 0 0 0;\n",
              "        width: 32px;\n",
              "      }\n",
              "\n",
              "      .colab-df-generate:hover {\n",
              "        background-color: #E2EBFA;\n",
              "        box-shadow: 0px 1px 2px rgba(60, 64, 67, 0.3), 0px 1px 3px 1px rgba(60, 64, 67, 0.15);\n",
              "        fill: #174EA6;\n",
              "      }\n",
              "\n",
              "      [theme=dark] .colab-df-generate {\n",
              "        background-color: #3B4455;\n",
              "        fill: #D2E3FC;\n",
              "      }\n",
              "\n",
              "      [theme=dark] .colab-df-generate:hover {\n",
              "        background-color: #434B5C;\n",
              "        box-shadow: 0px 1px 3px 1px rgba(0, 0, 0, 0.15);\n",
              "        filter: drop-shadow(0px 1px 2px rgba(0, 0, 0, 0.3));\n",
              "        fill: #FFFFFF;\n",
              "      }\n",
              "    </style>\n",
              "    <button class=\"colab-df-generate\" onclick=\"generateWithVariable('results')\"\n",
              "            title=\"Generate code using this dataframe.\"\n",
              "            style=\"display:none;\">\n",
              "\n",
              "  <svg xmlns=\"http://www.w3.org/2000/svg\" height=\"24px\"viewBox=\"0 0 24 24\"\n",
              "       width=\"24px\">\n",
              "    <path d=\"M7,19H8.4L18.45,9,17,7.55,7,17.6ZM5,21V16.75L18.45,3.32a2,2,0,0,1,2.83,0l1.4,1.43a1.91,1.91,0,0,1,.58,1.4,1.91,1.91,0,0,1-.58,1.4L9.25,21ZM18.45,9,17,7.55Zm-12,3A5.31,5.31,0,0,0,4.9,8.1,5.31,5.31,0,0,0,1,6.5,5.31,5.31,0,0,0,4.9,4.9,5.31,5.31,0,0,0,6.5,1,5.31,5.31,0,0,0,8.1,4.9,5.31,5.31,0,0,0,12,6.5,5.46,5.46,0,0,0,6.5,12Z\"/>\n",
              "  </svg>\n",
              "    </button>\n",
              "    <script>\n",
              "      (() => {\n",
              "      const buttonEl =\n",
              "        document.querySelector('#id_b371699e-6dd6-423f-86bd-1621dc3db2d6 button.colab-df-generate');\n",
              "      buttonEl.style.display =\n",
              "        google.colab.kernel.accessAllowed ? 'block' : 'none';\n",
              "\n",
              "      buttonEl.onclick = () => {\n",
              "        google.colab.notebook.generateWithVariable('results');\n",
              "      }\n",
              "      })();\n",
              "    </script>\n",
              "  </div>\n",
              "\n",
              "    </div>\n",
              "  </div>\n"
            ],
            "application/vnd.google.colaboratory.intrinsic+json": {
              "type": "dataframe",
              "variable_name": "results",
              "summary": "{\n  \"name\": \"results\",\n  \"rows\": 231,\n  \"fields\": [\n    {\n      \"column\": \"Age\",\n      \"properties\": {\n        \"dtype\": \"number\",\n        \"std\": 11,\n        \"min\": 21,\n        \"max\": 69,\n        \"num_unique_values\": 44,\n        \"samples\": [\n          69,\n          56,\n          37\n        ],\n        \"semantic_type\": \"\",\n        \"description\": \"\"\n      }\n    },\n    {\n      \"column\": \"Predicted Values\",\n      \"properties\": {\n        \"dtype\": \"number\",\n        \"std\": 0,\n        \"min\": 0,\n        \"max\": 1,\n        \"num_unique_values\": 2,\n        \"samples\": [\n          0,\n          1\n        ],\n        \"semantic_type\": \"\",\n        \"description\": \"\"\n      }\n    },\n    {\n      \"column\": \"Actual Values\",\n      \"properties\": {\n        \"dtype\": \"number\",\n        \"std\": 0,\n        \"min\": 0,\n        \"max\": 1,\n        \"num_unique_values\": 2,\n        \"samples\": [\n          0,\n          1\n        ],\n        \"semantic_type\": \"\",\n        \"description\": \"\"\n      }\n    },\n    {\n      \"column\": \"AgeGroup\",\n      \"properties\": {\n        \"dtype\": \"category\",\n        \"num_unique_values\": 3,\n        \"samples\": [\n          \"25-50\",\n          \"0-25\"\n        ],\n        \"semantic_type\": \"\",\n        \"description\": \"\"\n      }\n    }\n  ]\n}"
            }
          },
          "metadata": {},
          "execution_count": 139
        }
      ]
    },
    {
      "cell_type": "markdown",
      "source": [
        "Χωρίζουμε το DataFrame, σε τρία διαφορετικά DataFrames, στα οποία αποθηκεύουμε σε λίστες τα predictions & actual values, για το κάθε ηλικιακό γκρουπ, έπειτα υπολογίζουμε την απόδοσή τους, και απεικονίζουμε ένα barplot για τις τρεις διαφορετικές κλάσεις. **Η συνολική ακρίβεια του μοντέλου καθορίζεται από το άθροισμα των τριών ακριβειών  των τριών κλάσεων και διαιρείται με το 3. Αυτη η τιμή πρέπει να είναι σχεδόν ίδια, με την ακρίβεια που βρήκαμε στο x_valid, δηλαδή στο τεστ δεδομένων.**\n",
        "\n",
        "Παρατηρούμαι ότι η διαφορά τους:\n",
        "Accuracy of the model in Test set:: 77.92%\n",
        "Accuracy = (66.22 + 88 + 82.58) /3 = 78%  \n",
        "Η ελάχιστη διαφορά τους οφείλεται στη απλοποίηση των αριθμών μετά την υποδιαστολή."
      ],
      "metadata": {
        "id": "iWNA3H03FyyP"
      }
    },
    {
      "cell_type": "code",
      "source": [
        "# Split results dataframe to three different dataframes\n",
        "group_0_25 = results[results['AgeGroup'] == '0-25']\n",
        "group_25_50 = results[results['AgeGroup'] == '25-50']\n",
        "group_50_plus = results[results['AgeGroup'] == '50+']\n",
        "# Print the dataframes\n",
        "print(f\"{group_0_25.head()}\\n\",\n",
        "      f\"{group_25_50.head()}\\n\",\n",
        "      f\"{group_50_plus.head()}\\n\")\n",
        "\n",
        "# Create two lists for each Predicted Values and Actual Values for each dataframe, so in total 6 lists\n",
        "#group_0_25\n",
        "predicted_values_0_25 = group_0_25['Predicted Values'].tolist()\n",
        "actual_values_0_25 = group_0_25['Actual Values'].tolist()\n",
        "#group_25_50\n",
        "predicted_values_25_50 = group_25_50['Predicted Values'].tolist()\n",
        "actual_values_25_50 = group_25_50['Actual Values'].tolist()\n",
        "#group_50_plus\n",
        "predicted_values_50_plus = group_50_plus['Predicted Values'].tolist()\n",
        "actual_values_50_plus = group_50_plus['Actual Values'].tolist()\n",
        "\n",
        "# Calculate the accuracy of each group\n",
        "accuracy_score_0_25 = accuracy_score(actual_values_0_25, predicted_values_0_25)\n",
        "accuracy_score_25_50 = accuracy_score(actual_values_25_50, predicted_values_25_50)\n",
        "accuracy_score_50_plus = accuracy_score(actual_values_50_plus, predicted_values_50_plus)\n",
        "\n",
        "# Print the three accuracies\n",
        "print(f\"Accuracy of group 0-25: {accuracy_score_0_25*100:.2f}%\")\n",
        "print(f\"Accuracy of group 25-50: {accuracy_score_25_50*100:.2f}%\")\n",
        "print(f\"Accuracy of group 50+: {accuracy_score_50_plus*100:.2f}%\")\n",
        "print(\"\")\n",
        "#Visualize the three different accuracies\n",
        "plt.bar(['0-25', '25-50', '50+'], [accuracy_score_0_25, accuracy_score_25_50, accuracy_score_50_plus])\n",
        "plt.xlabel('Age Group')\n",
        "plt.ylabel(\"Accuracy\")\n",
        "plt.show()\n"
      ],
      "metadata": {
        "colab": {
          "base_uri": "https://localhost:8080/",
          "height": 869
        },
        "id": "ALlWwaphRaP_",
        "outputId": "0113256f-d8ff-4302-8cd6-d784b9d107bf"
      },
      "execution_count": 140,
      "outputs": [
        {
          "output_type": "stream",
          "name": "stdout",
          "text": [
            "    Age  Predicted Values  Actual Values AgeGroup\n",
            "3    21                 1              1     0-25\n",
            "27   22                 1              0     0-25\n",
            "32   22                 0              0     0-25\n",
            "45   25                 0              0     0-25\n",
            "47   22                 0              1     0-25\n",
            "    Age  Predicted Values  Actual Values AgeGroup\n",
            "0   50                 1              1    25-50\n",
            "1   31                 0              0    25-50\n",
            "2   32                 0              0    25-50\n",
            "4   33                 0              0    25-50\n",
            "5   30                 0              0    25-50\n",
            "     Age  Predicted Values  Actual Values AgeGroup\n",
            "8    53                 0              0      50+\n",
            "9    54                 0              0      50+\n",
            "12   57                 0              0      50+\n",
            "13   59                 0              0      50+\n",
            "14   51                 0              0      50+\n",
            "\n",
            "Accuracy of group 0-25: 66.22%\n",
            "Accuracy of group 25-50: 82.58%\n",
            "Accuracy of group 50+: 88.00%\n",
            "\n"
          ]
        },
        {
          "output_type": "display_data",
          "data": {
            "text/plain": [
              "<Figure size 640x480 with 1 Axes>"
            ],
            "image/png": "[encoded data removed]"
          },
          "metadata": {}
        }
      ]
    },
    {
      "cell_type": "markdown",
      "source": [
        "Ο ταξινομητής παρουσιάζει τρεις διαφορετικές ακρίβειες, φαίνεται να τα πηγαίνει καλύτερα στην κατηγορία των 50+ που περιλαμβάνει και τα λιγότερα δεδομένα συγκριτικά με τις άλλες κατηγορίες. Παρατηρείται ότι ο ταξινομητής έχει τη μικρότερη ακρίβεια στην κατηγορία 0-25, οπότε εκεί είναι πιο αναξιόπιστος συγκριτικά με τις άλλες δύο κατηγορίες ηλικιών. Συνεπώς, δεν δουλεύει το ίδιο αποτελεσματικά για όλες τις ηλικίες ο ταξινομητής."
      ],
      "metadata": {
        "id": "swk1HyALUcET"
      }
    },
    {
      "cell_type": "markdown",
      "source": [
        "**Ερώτημα 8**"
      ],
      "metadata": {
        "id": "wFQ3a0lvWHjw"
      }
    },
    {
      "cell_type": "markdown",
      "source": [
        "**Πιστεύω ότι χειρότερο είναι ο ταξινομητής να προβλέψει έναν ασθενή χωρίς διαβήτη, ενώ στη πραγματικότητα να έχει διαβήτη**. Το συγκεκριμένο λάθος θα έχει τεράστια αρνητική συνέπεια στον υγεία του ασθενή, διότι δεν θα λάβει την σωστή αγωγή με αποτέλεσμα ο διαβήτης να επιδεινώνεται και η υγεία του ασθενή να χειροτερεύει."
      ],
      "metadata": {
        "id": "iQnxJP8ZYnDZ"
      }
    },
    {
      "cell_type": "markdown",
      "source": [
        "**Ερώτημα 9**"
      ],
      "metadata": {
        "id": "xGKFN0OHZXY_"
      }
    },
    {
      "cell_type": "markdown",
      "source": [
        "Επανάληψη 5-6 Ερωτημάτων, με διαφορετική τυχαιότητα σε κάθε επανάληψη (seed).\n",
        "Σε κάθε επανάληψη, με διαφορετική τυχαιότητα ο ταξινομητής υπολογίζει την ακρίβεια που πετυχαίνει."
      ],
      "metadata": {
        "id": "Yu06C6d3Zj87"
      }
    },
    {
      "cell_type": "code",
      "source": [
        "#Define an empty list to store the accuracy after each iteration\n",
        "Accuracy=[]\n",
        "for i in range(0,10):\n",
        "  seed=i\n",
        "  split_size=0.3\n",
        "  X_train, X_valid, y_train, y_valid = train_test_split(x, y, test_size=split_size, random_state=seed)\n",
        "  model=LogisticRegression(max_iter=1000, random_state=seed)\n",
        "  model.fit(X_train, y_train)\n",
        "  predictions=model.predict(X_valid)\n",
        "  accuracy= accuracy_score(y_valid, predictions)\n",
        "  Accuracy.append(accuracy)\n",
        "print([f\" Seed: {index} Accuracy: {acc*100:.2f}%\" for index, acc in enumerate(Accuracy)])\n",
        "print(\"\")\n",
        "# Calculate the mean and std of the accuracy using the numpy functions.\n",
        "acc_mean = np.mean(Accuracy)\n",
        "acc_std = np.std(Accuracy)\n",
        "print(f\"Mean: {acc_mean*100:.2f}%\")\n",
        "print(f\"Std: {acc_std*100:.2f}%\")\n"
      ],
      "metadata": {
        "colab": {
          "base_uri": "https://localhost:8080/"
        },
        "id": "9_TcYAZSWKwi",
        "outputId": "4733653a-a1c4-4967-d67d-22498ebeadbf"
      },
      "execution_count": 141,
      "outputs": [
        {
          "output_type": "stream",
          "name": "stdout",
          "text": [
            "[' Seed: 0 Accuracy: 77.92%', ' Seed: 1 Accuracy: 78.35%', ' Seed: 2 Accuracy: 74.89%', ' Seed: 3 Accuracy: 75.32%', ' Seed: 4 Accuracy: 80.95%', ' Seed: 5 Accuracy: 78.35%', ' Seed: 6 Accuracy: 76.62%', ' Seed: 7 Accuracy: 77.92%', ' Seed: 8 Accuracy: 77.92%', ' Seed: 9 Accuracy: 74.46%']\n",
            "\n",
            "Mean: 77.27%\n",
            "Std: 1.87%\n"
          ]
        }
      ]
    },
    {
      "cell_type": "markdown",
      "source": [
        "*Ερώτηση 10*\n",
        "Κανονικοποίηση δεδομένων με τη χρήση του MinMax\n",
        "Θα χρησιμοποιηθεί το dataframe που αποτελείται μόνο από τις 8 στήλες, χωρίς την στήλη target (Outcome). Παρακάτω δημιουργείται μία συνάρτηση που μετασχηματίζει/κανονικοποιεί το DataFrame σε τιμές μεταξύ του [0,1] και εκτυπώνονται και ο αριθμός των στειλών, για την επιβεβαίωση ότι λείπει το target.\n",
        "\n",
        "Τα τρία σημαντικότερα features που επηρεάζουν την απόφαση του ταξινομητή μας, φαίνονται στην παρακάτω εικόνα, και είναι τα **DiabetesPedigreeFunction, το Pregnancies, BMI**"
      ],
      "metadata": {
        "id": "VnmeBFmLcej1"
      }
    },
    {
      "cell_type": "code",
      "source": [
        "def Min_Max_Scaler(x):\n",
        "  return (x - x.min()) / (x.max() - x.min())\n",
        "\n",
        "# Apply the Above function to the inputs_df\n",
        "x_scaled=Min_Max_Scaler(inputs_df)\n",
        "print(x_scaled.head())     # Print the scaled numbers to validate the corrected transformation from original values to values between [0,1].\n",
        "print(\"\")\n",
        "\n",
        "# Visualize the feature importance\n",
        "coeffs= model.coef_[0]\n",
        "importance_weights = np.abs(coeffs)\n",
        "plt.barh(inputs_df.columns, importance_weights)\n",
        "plt.title('Logistic Regression Weights')\n",
        "plt.xlabel('Features')\n",
        "plt.ylabel('Coefficients')\n",
        "plt.show()"
      ],
      "metadata": {
        "colab": {
          "base_uri": "https://localhost:8080/",
          "height": 728
        },
        "id": "Cqp62QgAct9q",
        "outputId": "96c68550-cce6-47c2-c4ce-72c6478e3065"
      },
      "execution_count": 142,
      "outputs": [
        {
          "output_type": "stream",
          "name": "stdout",
          "text": [
            "   Pregnancies   Glucose  BloodPressure  SkinThickness   Insulin       BMI  \\\n",
            "0     0.352941  0.743719       0.590164       0.353535  0.000000  0.500745   \n",
            "1     0.058824  0.427136       0.540984       0.292929  0.000000  0.396423   \n",
            "2     0.470588  0.919598       0.524590       0.000000  0.000000  0.347243   \n",
            "3     0.058824  0.447236       0.540984       0.232323  0.111111  0.418778   \n",
            "4     0.000000  0.688442       0.327869       0.353535  0.198582  0.642325   \n",
            "\n",
            "   DiabetesPedigreeFunction       Age  \n",
            "0                  0.234415  0.483333  \n",
            "1                  0.116567  0.166667  \n",
            "2                  0.253629  0.183333  \n",
            "3                  0.038002  0.000000  \n",
            "4                  0.943638  0.200000  \n",
            "\n"
          ]
        },
        {
          "output_type": "display_data",
          "data": {
            "text/plain": [
              "<Figure size 640x480 with 1 Axes>"
            ],
            "image/png": "[encoded data removed]"
          },
          "metadata": {}
        }
      ]
    },
    {
      "cell_type": "markdown",
      "source": [
        "**Μέρος 2 - Γραμμική Παλινδρόμηση**"
      ],
      "metadata": {
        "id": "oTr5RrwzckZE"
      }
    },
    {
      "cell_type": "code",
      "source": [
        "# Load the necessary regressor and metrics for regression purposes.\n",
        "from sklearn.linear_model import LinearRegression\n",
        "from sklearn.metrics import mean_squared_error, mean_absolute_error\n",
        "\n",
        "# Load the Dataset\n",
        "# Keep only the (Pregnancies, Blood Pressure, BMI, Age) as X and the target will be the Glucose (numeric value)\n",
        "# Splits the dataset to 70-30\n",
        "df1= pd.read_csv(\"diabetes.csv\")\n",
        "df1=df1[['Pregnancies', 'BloodPressure', 'BMI', 'Age', 'Glucose']] # Keep only the desired values\n",
        "\n",
        "# Split the DataFrame to X, y\n",
        "X=df1.drop(columns='Glucose')\n",
        "y=df1['Glucose']\n",
        "print(X, y)\n",
        "\n",
        "#Split the DataFrames X,y to X_train, X_valid, Y_train, y_valid\n",
        "seed=0\n",
        "split_ration=0.3\n",
        "X_train, X_valid, y_train, y_valid = train_test_split(X, y, test_size=split_ration, random_state=seed)\n"
      ],
      "metadata": {
        "id": "mT4bzal-chJg",
        "colab": {
          "base_uri": "https://localhost:8080/"
        },
        "outputId": "eaaac35f-1e6d-49a6-b0a9-7eadb0282a74"
      },
      "execution_count": 143,
      "outputs": [
        {
          "output_type": "stream",
          "name": "stdout",
          "text": [
            "     Pregnancies  BloodPressure   BMI  Age\n",
            "0              6             72  33.6   50\n",
            "1              1             66  26.6   31\n",
            "2              8             64  23.3   32\n",
            "3              1             66  28.1   21\n",
            "4              0             40  43.1   33\n",
            "..           ...            ...   ...  ...\n",
            "763           10             76  32.9   63\n",
            "764            2             70  36.8   27\n",
            "765            5             72  26.2   30\n",
            "766            1             60  30.1   47\n",
            "767            1             70  30.4   23\n",
            "\n",
            "[768 rows x 4 columns] 0      148\n",
            "1       85\n",
            "2      183\n",
            "3       89\n",
            "4      137\n",
            "      ... \n",
            "763    101\n",
            "764    122\n",
            "765    121\n",
            "766    126\n",
            "767     93\n",
            "Name: Glucose, Length: 768, dtype: int64\n"
          ]
        }
      ]
    },
    {
      "cell_type": "markdown",
      "source": [
        "**Ερώτημα 2**"
      ],
      "metadata": {
        "id": "2d93SqXkv7E2"
      }
    },
    {
      "cell_type": "markdown",
      "source": [
        "Το παρακάτω κελί δημιουργεί ένα αντικείμενο του μοντέλου LinearRegression(), το εφαρμόζει στα δεδομένα, και προβλέπει την γλυκόζη σε άγνωστα δεδομένα του test_set.\n",
        "\n",
        "Σύμφωνα με τις μετρικές, η **mean squared error = 929**, απίστευτα μεγάλη τιμή, που υποδειλώνει ότι η τιμή της πρόβλεψης διαφέρει σημαντικά με την πραγματική τιμή. Επιπλέον, στις τιμές δεν έχει εφαρμοστεί κάποια κλιμάκωση (scaling), συνεπώς **ο υπολογισμός της συγκεκριμένης μετρικής που υψώνει τις μεταβλητές στο τετράγωνο**, εκτοξεύει την συνολική τιμής της με αποτέλεσμα να μην είναι η κατάλληλη για την αξιολόγησει του μοντέλου μας.\n",
        "\n",
        "**Η δεύτερη μετρική που δεν υψώνει τις προβλέψεις και τις πραγματικές τιμές στο τετράγωνο, και απλά υπολογίζει την αριθμιτική τους διαφορά, είναι σημαντικά μικρότερη mean_absolute_error=23**, και είναι καταλληλότερη σε"
      ],
      "metadata": {
        "id": "bEU_MiQptMg8"
      }
    },
    {
      "cell_type": "code",
      "source": [
        "# Use the regressor to predict the level of the Glucose for each patient/human in the dataset.\n",
        "#Define the model LinearRegression\n",
        "regressor = LinearRegression()\n",
        "# Fit the model to the train set.\n",
        "regressor.fit(X_train, y_train)\n",
        "# Calculate the accuracy in the train set with seed=0\n",
        "Predictions_regressor= regressor.predict(X_valid)\n",
        "# Calculate the mean_squared_error and mean_absolute_error\n",
        "mse= mean_squared_error(y_valid, Predictions_regressor)\n",
        "mae= mean_absolute_error(y_valid, Predictions_regressor)\n",
        "print(f\"Mean Squared Error: {mse}\")\n",
        "print(f\"Mean Absolute Error: {mae}\")\n",
        "print(\"\")\n",
        "\n",
        "# Visualize feature importance\n",
        "coeffs= regressor.coef_\n",
        "importance_weights = np.abs(coeffs)\n",
        "plt.barh(X.columns, importance_weights)\n",
        "plt.title('Linear Regression Weights')\n",
        "plt.xlabel('Features')\n",
        "plt.ylabel('Coefficients')\n",
        "plt.show()"
      ],
      "metadata": {
        "colab": {
          "base_uri": "https://localhost:8080/",
          "height": 527
        },
        "id": "YRo3ZybZCOZh",
        "outputId": "2de764e0-d243-491a-9543-63ad1a99c2b3"
      },
      "execution_count": 144,
      "outputs": [
        {
          "output_type": "stream",
          "name": "stdout",
          "text": [
            "Mean Squared Error: 929.88834927469\n",
            "Mean Absolute Error: 23.599990462075155\n",
            "\n"
          ]
        },
        {
          "output_type": "display_data",
          "data": {
            "text/plain": [
              "<Figure size 640x480 with 1 Axes>"
            ],
            "image/png": "[encoded data removed]"
          },
          "metadata": {}
        }
      ]
    },
    {
      "cell_type": "markdown",
      "source": [
        "**Ερώτημα 3**"
      ],
      "metadata": {
        "id": "0Kuyhe-ev-b_"
      }
    },
    {
      "cell_type": "markdown",
      "source": [
        "Εισάγω τον Lasso regressor, για τις διαφορετικές τιμές του alpha, εκπαιδεύεω το μοντέλο στα δεδομένα, κατόπιν αποθηκεύω τις προβλέψεις και στο τέλος εκτυπώνω την καταλληλότερη μετρική με βάση το προηγούμενο ερώτημα προσδιορίζοντας την απόδοση του μοντέλου.\n"
      ],
      "metadata": {
        "id": "Z-uXRnuQ2T_S"
      }
    },
    {
      "cell_type": "code",
      "source": [
        "#import the Lasso Regression model\n",
        "from sklearn.linear_model import Lasso\n",
        "alpha= [0.2, 0.4, 0.6, 0.8, 1.0]\n",
        "store_predictions=[]\n",
        "#Define a loop that fit the Lasso to the Dataset\n",
        "for i in alpha:\n",
        "  lasso_regressor=Lasso(alpha=i)\n",
        "  lasso_regressor.fit(X_train,y_train)\n",
        "  lasso_predictions=lasso_regressor.predict(X_valid)\n",
        "  lasso_mae= mean_absolute_error(y_valid, lasso_predictions)   # More appropriate metric from previous question.\n",
        "  store_predictions.append(lasso_mae)\n",
        "  print(f\"Alpha: {i} MAE: {lasso_mae}\")"
      ],
      "metadata": {
        "colab": {
          "base_uri": "https://localhost:8080/"
        },
        "id": "Zi6zcyhvwCap",
        "outputId": "5966d73e-5806-46cd-8f5c-52afe73b7a23"
      },
      "execution_count": 145,
      "outputs": [
        {
          "output_type": "stream",
          "name": "stdout",
          "text": [
            "Alpha: 0.2 MAE: 23.5942032912292\n",
            "Alpha: 0.4 MAE: 23.58841532130485\n",
            "Alpha: 0.6 MAE: 23.58262934003747\n",
            "Alpha: 0.8 MAE: 23.576843358770088\n",
            "Alpha: 1.0 MAE: 23.571057628091296\n"
          ]
        }
      ]
    },
    {
      "cell_type": "markdown",
      "source": [
        "**Ερώτημα 4**"
      ],
      "metadata": {
        "id": "IdXPBpwM3NN0"
      }
    },
    {
      "cell_type": "markdown",
      "source": [
        "Σύμφωνα με το ερώτημα 2, το πιο ασήμαντο χαρακτηριστικό για την πρόβλεψη μας είναι το **BloodPressure**, για αυτό θα το αφαραίσουμε και θα πραγματοποιήσουμε την διαδικασία του ερωτήματος 2 ξανά.\n",
        "\n",
        "Οι μετρικές της απόδοσης του μοντέλου είναι οι **mean_squared_error=932, mean_absolute_error=23**, σύμφωνα με τη συσχέτιση τους με τις προηγούμενες μετρικές, αφαιρόντας το συγκεκριμένο χαρακτηριστικό **οι μετρικές αυξήθηκαν σε απειροέλαχιστο βαθμό συγκεκριμένα το mean_absolute_error, πράγμα που μας υποδηλώνει την μη σημαντικότητα του συγκεκριμένου χαρακτηριστικού στη πρόβλεψη της γλύκοζης ως στόχο (target).** Παρομοίως η mean_squared_error αυξήθηκε κατά τρεις μονάδες, που είναι αναμενόμενο λόγω της μη εφαρμογής κάποια κλιμάκωσης (scaling) στα δεδομένα."
      ],
      "metadata": {
        "id": "3aXqQsWz3VJe"
      }
    },
    {
      "cell_type": "code",
      "source": [
        "# Drop the BloodPressure from X DataFrame\n",
        "X_without_blood_pressure= X.drop(columns='BloodPressure')\n",
        "y_withot_blood_pressure= y\n",
        "\n",
        "#Split the DataFrames X,y to X_train, X_valid, Y_train, y_valid\n",
        "seed=0\n",
        "split_ration=0.3\n",
        "X_train_blood_pressure, X_valid_blood_pressure, y_train_blood_pressure, y_valid_blood_pressure = train_test_split(X_without_blood_pressure, y_withot_blood_pressure, test_size=split_ration, random_state=seed)\n",
        "\n",
        "# Apply the regressor\n",
        "regressor1 = LinearRegression()\n",
        "# Fit the model to the train set.\n",
        "regressor1.fit(X_train_blood_pressure, y_train_blood_pressure)\n",
        "# Calculate the accuracy in the train set with seed=0\n",
        "Predictions_regressor_blood_pressure= regressor1.predict(X_valid_blood_pressure)\n",
        "# Calculate the mean_squared_error and mean_absolute_error\n",
        "mse= mean_squared_error(y_valid, Predictions_regressor_blood_pressure)\n",
        "mae= mean_absolute_error(y_valid, Predictions_regressor_blood_pressure)\n",
        "print(f\"Mean Squared Error: {mse}\")\n",
        "print(f\"Mean Absolute Error: {mae}\")\n"
      ],
      "metadata": {
        "colab": {
          "base_uri": "https://localhost:8080/"
        },
        "id": "Cfv5NFMN3QYQ",
        "outputId": "929b575c-24e0-42a0-a0a6-f623eb94e407"
      },
      "execution_count": 146,
      "outputs": [
        {
          "output_type": "stream",
          "name": "stdout",
          "text": [
            "Mean Squared Error: 932.1503886864979\n",
            "Mean Absolute Error: 23.615563643141336\n"
          ]
        }
      ]
    }
  ]
}